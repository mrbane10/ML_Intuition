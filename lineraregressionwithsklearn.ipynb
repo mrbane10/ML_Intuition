{
 "cells": [
  {
   "cell_type": "markdown",
   "source": [
    "# Linear Regression with Scikit Learn"
   ],
   "metadata": {
    "collapsed": false
   },
   "id": "9ca56e1f8c2384a8"
  },
  {
   "cell_type": "code",
   "execution_count": 34,
   "outputs": [],
   "source": [
    "import numpy as np\n",
    "import matplotlib.pyplot as plt\n",
    "from sklearn.linear_model import SGDRegressor\n",
    "from sklearn.preprocessing import StandardScaler\n",
    "%matplotlib inline"
   ],
   "metadata": {
    "collapsed": false,
    "ExecuteTime": {
     "end_time": "2024-05-10T17:34:56.794781Z",
     "start_time": "2024-05-10T17:34:56.762784Z"
    }
   },
   "id": "729a1b8319feee86"
  },
  {
   "cell_type": "code",
   "execution_count": 37,
   "outputs": [],
   "source": [
    "def load_house_data():\n",
    "    data = np.loadtxt(\"LRwith1varf/data/houses.txt\", delimiter=',', skiprows=1)\n",
    "    X = data[:,:4]\n",
    "    y = data[:,4]\n",
    "    return X, y"
   ],
   "metadata": {
    "collapsed": false,
    "ExecuteTime": {
     "end_time": "2024-05-10T17:35:07.996716Z",
     "start_time": "2024-05-10T17:35:07.981725Z"
    }
   },
   "id": "initial_id"
  },
  {
   "cell_type": "code",
   "execution_count": 38,
   "outputs": [],
   "source": [
    "X_train,y_train=load_house_data()"
   ],
   "metadata": {
    "collapsed": false,
    "ExecuteTime": {
     "end_time": "2024-05-10T17:35:08.395563Z",
     "start_time": "2024-05-10T17:35:08.377042Z"
    }
   },
   "id": "6782e857a57c9cf0"
  },
  {
   "cell_type": "code",
   "execution_count": 39,
   "outputs": [
    {
     "name": "stdout",
     "output_type": "stream",
     "text": [
      "(99, 4) (99,)\n"
     ]
    }
   ],
   "source": [
    "print(X_train.shape,y_train.shape)"
   ],
   "metadata": {
    "collapsed": false,
    "ExecuteTime": {
     "end_time": "2024-05-10T17:35:09.126229Z",
     "start_time": "2024-05-10T17:35:09.101634Z"
    }
   },
   "id": "1c51d2e1189bb411"
  },
  {
   "cell_type": "code",
   "execution_count": 41,
   "outputs": [],
   "source": [
    "X_features = ['size(sqft)','bedrooms','floors','age']"
   ],
   "metadata": {
    "collapsed": false,
    "ExecuteTime": {
     "end_time": "2024-05-10T17:35:25.542613Z",
     "start_time": "2024-05-10T17:35:25.538716Z"
    }
   },
   "id": "50a067d5fd6762d7"
  },
  {
   "cell_type": "code",
   "execution_count": 42,
   "outputs": [],
   "source": [
    "#scaling the features\n",
    "scaler=StandardScaler()\n",
    "X_norm=scaler.fit_transform(X_train)"
   ],
   "metadata": {
    "collapsed": false,
    "ExecuteTime": {
     "end_time": "2024-05-10T17:46:38.785122Z",
     "start_time": "2024-05-10T17:46:38.748395Z"
    }
   },
   "id": "5445bd77db2c3d53"
  },
  {
   "cell_type": "code",
   "execution_count": 57,
   "outputs": [
    {
     "name": "stdout",
     "output_type": "stream",
     "text": [
      "Peak to Peak range by column in Raw        X:[2.406e+03 4.000e+00 1.000e+00 9.500e+01]\n",
      "Peak to Peak range by column in Normalized X:[5.8452591  6.13529646 2.05626214 3.68533012]\n"
     ]
    }
   ],
   "source": [
    "print(f\"Peak to Peak range by column in Raw        X:{np.ptp(X_train,axis=0)}\")   \n",
    "print(f\"Peak to Peak range by column in Normalized X:{np.ptp(X_norm,axis=0)}\")"
   ],
   "metadata": {
    "collapsed": false,
    "ExecuteTime": {
     "end_time": "2024-05-10T18:25:57.857729Z",
     "start_time": "2024-05-10T18:25:57.844989Z"
    }
   },
   "id": "7b6321e662d05c2"
  },
  {
   "cell_type": "code",
   "execution_count": 60,
   "outputs": [
    {
     "name": "stdout",
     "output_type": "stream",
     "text": [
      "number of iterations completed: 115, number of weight updates: 11386.0\n"
     ]
    }
   ],
   "source": [
    "sgdr=SGDRegressor(max_iter=1000)\n",
    "sgdr.fit(X_norm,y_train)\n",
    "print(f\"number of iterations completed: {sgdr.n_iter_}, number of weight updates: {sgdr.t_}\")"
   ],
   "metadata": {
    "collapsed": false,
    "ExecuteTime": {
     "end_time": "2024-05-10T18:26:38.427751Z",
     "start_time": "2024-05-10T18:26:38.386625Z"
    }
   },
   "id": "fc320adcf3a775ca"
  },
  {
   "cell_type": "code",
   "execution_count": 61,
   "outputs": [],
   "source": [
    "b_norm = sgdr.intercept_\n",
    "w_norm = sgdr.coef_"
   ],
   "metadata": {
    "collapsed": false,
    "ExecuteTime": {
     "end_time": "2024-05-10T18:26:40.146360Z",
     "start_time": "2024-05-10T18:26:40.121585Z"
    }
   },
   "id": "d8882877c07a4ac"
  },
  {
   "cell_type": "code",
   "execution_count": 62,
   "outputs": [
    {
     "name": "stdout",
     "output_type": "stream",
     "text": [
      "model parameters:                   w: [109.95989358 -20.99339224 -32.3976722  -38.07112404], b:[363.1627216]\n"
     ]
    }
   ],
   "source": [
    "print(f\"model parameters:                   w: {w_norm}, b:{b_norm}\")"
   ],
   "metadata": {
    "collapsed": false,
    "ExecuteTime": {
     "end_time": "2024-05-10T18:26:42.168757Z",
     "start_time": "2024-05-10T18:26:42.153360Z"
    }
   },
   "id": "993b8ee63f525762"
  },
  {
   "cell_type": "markdown",
   "source": [
    "### Predictions\n",
    "Predicting the target of the training data."
   ],
   "metadata": {
    "collapsed": false
   },
   "id": "b50d2117dab1a2f2"
  },
  {
   "cell_type": "code",
   "execution_count": 65,
   "outputs": [
    {
     "name": "stdout",
     "output_type": "stream",
     "text": [
      "prediction using np.dot() and sgdr.predict match: True\n",
      "Prediction on training set:\n",
      "[295.21132715 485.80805253 389.58021117 491.96754092]\n",
      "Target values \n",
      "[300.  509.8 394.  540. ]\n"
     ]
    }
   ],
   "source": [
    "y_pred_sgd = sgdr.predict(X_norm)\n",
    "# making prediction using w,b. \n",
    "y_pred = np.dot(X_norm, w_norm) + b_norm  \n",
    "print(f\"prediction using np.dot() and sgdr.predict match: {(y_pred == y_pred_sgd).all()}\")\n",
    "\n",
    "print(f\"Prediction on training set:\\n{y_pred[:4]}\" )\n",
    "print(f\"Target values \\n{y_train[:4]}\")"
   ],
   "metadata": {
    "collapsed": false,
    "ExecuteTime": {
     "end_time": "2024-05-10T18:33:00.603505Z",
     "start_time": "2024-05-10T18:33:00.560632Z"
    }
   },
   "id": "73b392952d346863"
  },
  {
   "cell_type": "code",
   "execution_count": null,
   "outputs": [],
   "source": [],
   "metadata": {
    "collapsed": false
   },
   "id": "cae3359cc287360b"
  }
 ],
 "metadata": {
  "kernelspec": {
   "display_name": "Python 3",
   "language": "python",
   "name": "python3"
  },
  "language_info": {
   "codemirror_mode": {
    "name": "ipython",
    "version": 2
   },
   "file_extension": ".py",
   "mimetype": "text/x-python",
   "name": "python",
   "nbconvert_exporter": "python",
   "pygments_lexer": "ipython2",
   "version": "2.7.6"
  }
 },
 "nbformat": 4,
 "nbformat_minor": 5
}
