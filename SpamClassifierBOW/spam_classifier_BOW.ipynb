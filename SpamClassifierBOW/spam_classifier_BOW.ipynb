{
 "cells": [
  {
   "cell_type": "markdown",
   "id": "b062f314",
   "metadata": {},
   "source": [
    "<h2 align='center'>NLP Tutorial: Text Representation - Bag Of Words (BOW)</h2>"
   ]
  },
  {
   "cell_type": "code",
   "execution_count": 4,
   "id": "54f8d7a3",
   "metadata": {
    "ExecuteTime": {
     "end_time": "2024-05-29T05:41:07.260548Z",
     "start_time": "2024-05-29T05:41:06.483765Z"
    }
   },
   "outputs": [],
   "source": [
    "import pandas as pd\n",
    "import numpy as np"
   ]
  },
  {
   "cell_type": "code",
   "execution_count": 4,
   "outputs": [],
   "source": [],
   "metadata": {
    "collapsed": false,
    "ExecuteTime": {
     "end_time": "2024-05-29T05:41:07.270516Z",
     "start_time": "2024-05-29T05:41:07.254973Z"
    }
   },
   "id": "e928fc1b6ba880d6"
  },
  {
   "cell_type": "code",
   "execution_count": 5,
   "id": "e8912b1f",
   "metadata": {
    "ExecuteTime": {
     "end_time": "2024-05-29T05:41:07.299833Z",
     "start_time": "2024-05-29T05:41:07.270962Z"
    }
   },
   "outputs": [
    {
     "data": {
      "text/plain": "  Category                                            Message\n0      ham  Go until jurong point, crazy.. Available only ...\n1      ham                      Ok lar... Joking wif u oni...\n2     spam  Free entry in 2 a wkly comp to win FA Cup fina...\n3      ham  U dun say so early hor... U c already then say...\n4      ham  Nah I don't think he goes to usf, he lives aro...",
      "text/html": "<div>\n<style scoped>\n    .dataframe tbody tr th:only-of-type {\n        vertical-align: middle;\n    }\n\n    .dataframe tbody tr th {\n        vertical-align: top;\n    }\n\n    .dataframe thead th {\n        text-align: right;\n    }\n</style>\n<table border=\"1\" class=\"dataframe\">\n  <thead>\n    <tr style=\"text-align: right;\">\n      <th></th>\n      <th>Category</th>\n      <th>Message</th>\n    </tr>\n  </thead>\n  <tbody>\n    <tr>\n      <th>0</th>\n      <td>ham</td>\n      <td>Go until jurong point, crazy.. Available only ...</td>\n    </tr>\n    <tr>\n      <th>1</th>\n      <td>ham</td>\n      <td>Ok lar... Joking wif u oni...</td>\n    </tr>\n    <tr>\n      <th>2</th>\n      <td>spam</td>\n      <td>Free entry in 2 a wkly comp to win FA Cup fina...</td>\n    </tr>\n    <tr>\n      <th>3</th>\n      <td>ham</td>\n      <td>U dun say so early hor... U c already then say...</td>\n    </tr>\n    <tr>\n      <th>4</th>\n      <td>ham</td>\n      <td>Nah I don't think he goes to usf, he lives aro...</td>\n    </tr>\n  </tbody>\n</table>\n</div>"
     },
     "execution_count": 5,
     "metadata": {},
     "output_type": "execute_result"
    }
   ],
   "source": [
    "df = pd.read_csv(\"spam.csv\")\n",
    "df.head()"
   ]
  },
  {
   "cell_type": "code",
   "execution_count": 6,
   "id": "e4f5ae86",
   "metadata": {
    "ExecuteTime": {
     "end_time": "2024-05-29T05:41:08.325750Z",
     "start_time": "2024-05-29T05:41:08.320213Z"
    }
   },
   "outputs": [
    {
     "data": {
      "text/plain": "Category\nham     4825\nspam     747\nName: count, dtype: int64"
     },
     "execution_count": 6,
     "metadata": {},
     "output_type": "execute_result"
    }
   ],
   "source": [
    "df.Category.value_counts()"
   ]
  },
  {
   "cell_type": "code",
   "execution_count": 7,
   "id": "ce3d207b",
   "metadata": {
    "ExecuteTime": {
     "end_time": "2024-05-29T05:41:08.664569Z",
     "start_time": "2024-05-29T05:41:08.661598Z"
    }
   },
   "outputs": [],
   "source": [
    "df['spam'] = df['Category'].apply(lambda x: 1 if x =='spam' else 0)"
   ]
  },
  {
   "cell_type": "code",
   "execution_count": 8,
   "id": "6b665e00",
   "metadata": {
    "ExecuteTime": {
     "end_time": "2024-05-29T05:41:08.925727Z",
     "start_time": "2024-05-29T05:41:08.922810Z"
    }
   },
   "outputs": [
    {
     "data": {
      "text/plain": "(5572, 3)"
     },
     "execution_count": 8,
     "metadata": {},
     "output_type": "execute_result"
    }
   ],
   "source": [
    "df.shape"
   ]
  },
  {
   "cell_type": "code",
   "execution_count": 9,
   "id": "0fdd3b0c",
   "metadata": {
    "scrolled": true,
    "ExecuteTime": {
     "end_time": "2024-05-29T05:41:09.093380Z",
     "start_time": "2024-05-29T05:41:09.086422Z"
    }
   },
   "outputs": [
    {
     "data": {
      "text/plain": "  Category                                            Message  spam\n0      ham  Go until jurong point, crazy.. Available only ...     0\n1      ham                      Ok lar... Joking wif u oni...     0\n2     spam  Free entry in 2 a wkly comp to win FA Cup fina...     1\n3      ham  U dun say so early hor... U c already then say...     0\n4      ham  Nah I don't think he goes to usf, he lives aro...     0",
      "text/html": "<div>\n<style scoped>\n    .dataframe tbody tr th:only-of-type {\n        vertical-align: middle;\n    }\n\n    .dataframe tbody tr th {\n        vertical-align: top;\n    }\n\n    .dataframe thead th {\n        text-align: right;\n    }\n</style>\n<table border=\"1\" class=\"dataframe\">\n  <thead>\n    <tr style=\"text-align: right;\">\n      <th></th>\n      <th>Category</th>\n      <th>Message</th>\n      <th>spam</th>\n    </tr>\n  </thead>\n  <tbody>\n    <tr>\n      <th>0</th>\n      <td>ham</td>\n      <td>Go until jurong point, crazy.. Available only ...</td>\n      <td>0</td>\n    </tr>\n    <tr>\n      <th>1</th>\n      <td>ham</td>\n      <td>Ok lar... Joking wif u oni...</td>\n      <td>0</td>\n    </tr>\n    <tr>\n      <th>2</th>\n      <td>spam</td>\n      <td>Free entry in 2 a wkly comp to win FA Cup fina...</td>\n      <td>1</td>\n    </tr>\n    <tr>\n      <th>3</th>\n      <td>ham</td>\n      <td>U dun say so early hor... U c already then say...</td>\n      <td>0</td>\n    </tr>\n    <tr>\n      <th>4</th>\n      <td>ham</td>\n      <td>Nah I don't think he goes to usf, he lives aro...</td>\n      <td>0</td>\n    </tr>\n  </tbody>\n</table>\n</div>"
     },
     "execution_count": 9,
     "metadata": {},
     "output_type": "execute_result"
    }
   ],
   "source": [
    "df.head()"
   ]
  },
  {
   "cell_type": "markdown",
   "id": "c14da82f",
   "metadata": {},
   "source": [
    "<h3>Train test split</h3>"
   ]
  },
  {
   "cell_type": "code",
   "execution_count": 10,
   "id": "55c57d7e",
   "metadata": {
    "ExecuteTime": {
     "end_time": "2024-05-29T05:41:09.645489Z",
     "start_time": "2024-05-29T05:41:09.491635Z"
    }
   },
   "outputs": [],
   "source": [
    "from sklearn.model_selection import train_test_split\n",
    "\n",
    "X_train, X_test, y_train, y_test = train_test_split(df.Message, df.spam, test_size=0.2)"
   ]
  },
  {
   "cell_type": "code",
   "execution_count": 11,
   "id": "0c434635",
   "metadata": {
    "ExecuteTime": {
     "end_time": "2024-05-29T05:41:09.652191Z",
     "start_time": "2024-05-29T05:41:09.646027Z"
    }
   },
   "outputs": [
    {
     "data": {
      "text/plain": "(4457,)"
     },
     "execution_count": 11,
     "metadata": {},
     "output_type": "execute_result"
    }
   ],
   "source": [
    "X_train.shape"
   ]
  },
  {
   "cell_type": "code",
   "execution_count": 12,
   "id": "0322e41b",
   "metadata": {
    "ExecuteTime": {
     "end_time": "2024-05-29T05:41:09.772493Z",
     "start_time": "2024-05-29T05:41:09.770035Z"
    }
   },
   "outputs": [
    {
     "data": {
      "text/plain": "(1115,)"
     },
     "execution_count": 12,
     "metadata": {},
     "output_type": "execute_result"
    }
   ],
   "source": [
    "X_test.shape"
   ]
  },
  {
   "cell_type": "code",
   "execution_count": 13,
   "id": "2b8afdd0",
   "metadata": {
    "ExecuteTime": {
     "end_time": "2024-05-29T05:41:09.917822Z",
     "start_time": "2024-05-29T05:41:09.914523Z"
    }
   },
   "outputs": [
    {
     "data": {
      "text/plain": "pandas.core.series.Series"
     },
     "execution_count": 13,
     "metadata": {},
     "output_type": "execute_result"
    }
   ],
   "source": [
    "type(X_train)"
   ]
  },
  {
   "cell_type": "code",
   "execution_count": 14,
   "id": "4c31562f",
   "metadata": {
    "ExecuteTime": {
     "end_time": "2024-05-29T05:41:10.047304Z",
     "start_time": "2024-05-29T05:41:10.043980Z"
    }
   },
   "outputs": [
    {
     "data": {
      "text/plain": "870     What do U want for Xmas? How about 100 free te...\n477                          Love you aathi..love u lot..\n1231    I want to send something that can sell fast.  ...\n2267    <Forwarded from 88877>FREE entry into our £250...\nName: Message, dtype: object"
     },
     "execution_count": 14,
     "metadata": {},
     "output_type": "execute_result"
    }
   ],
   "source": [
    "X_train[:4]"
   ]
  },
  {
   "cell_type": "code",
   "execution_count": 15,
   "id": "425d18a6",
   "metadata": {
    "ExecuteTime": {
     "end_time": "2024-05-29T05:41:10.164860Z",
     "start_time": "2024-05-29T05:41:10.159279Z"
    }
   },
   "outputs": [
    {
     "data": {
      "text/plain": "pandas.core.series.Series"
     },
     "execution_count": 15,
     "metadata": {},
     "output_type": "execute_result"
    }
   ],
   "source": [
    "type(y_train)"
   ]
  },
  {
   "cell_type": "code",
   "execution_count": 16,
   "id": "0a441180",
   "metadata": {
    "ExecuteTime": {
     "end_time": "2024-05-29T05:41:10.289817Z",
     "start_time": "2024-05-29T05:41:10.287918Z"
    }
   },
   "outputs": [
    {
     "data": {
      "text/plain": "870     1\n477     0\n1231    0\n2267    1\nName: spam, dtype: int64"
     },
     "execution_count": 16,
     "metadata": {},
     "output_type": "execute_result"
    }
   ],
   "source": [
    "y_train[:4]"
   ]
  },
  {
   "cell_type": "code",
   "execution_count": 17,
   "id": "0144b67b",
   "metadata": {
    "scrolled": true,
    "ExecuteTime": {
     "end_time": "2024-05-29T05:41:10.431255Z",
     "start_time": "2024-05-29T05:41:10.424146Z"
    }
   },
   "outputs": [
    {
     "data": {
      "text/plain": "numpy.ndarray"
     },
     "execution_count": 17,
     "metadata": {},
     "output_type": "execute_result"
    }
   ],
   "source": [
    "type(X_train.values)"
   ]
  },
  {
   "cell_type": "markdown",
   "id": "b7d2c01f",
   "metadata": {},
   "source": [
    "<h3>Create bag of words representation using CountVectorizer</h3>"
   ]
  },
  {
   "cell_type": "code",
   "execution_count": 18,
   "id": "41a212bd",
   "metadata": {
    "ExecuteTime": {
     "end_time": "2024-05-29T05:41:11.019818Z",
     "start_time": "2024-05-29T05:41:10.681778Z"
    }
   },
   "outputs": [
    {
     "data": {
      "text/plain": "<4457x7670 sparse matrix of type '<class 'numpy.int64'>'\n\twith 59532 stored elements in Compressed Sparse Row format>"
     },
     "execution_count": 18,
     "metadata": {},
     "output_type": "execute_result"
    }
   ],
   "source": [
    "from sklearn.feature_extraction.text import CountVectorizer\n",
    "\n",
    "v = CountVectorizer()\n",
    "\n",
    "X_train_cv = v.fit_transform(X_train.values)\n",
    "X_train_cv"
   ]
  },
  {
   "cell_type": "code",
   "execution_count": 19,
   "id": "30a01ec3",
   "metadata": {
    "ExecuteTime": {
     "end_time": "2024-05-29T05:41:11.114782Z",
     "start_time": "2024-05-29T05:41:11.015306Z"
    }
   },
   "outputs": [
    {
     "data": {
      "text/plain": "array([0, 0, 0, ..., 0, 0, 0])"
     },
     "execution_count": 19,
     "metadata": {},
     "output_type": "execute_result"
    }
   ],
   "source": [
    "X_train_cv.toarray()[:2][0]"
   ]
  },
  {
   "cell_type": "code",
   "execution_count": 20,
   "id": "e3846715",
   "metadata": {
    "ExecuteTime": {
     "end_time": "2024-05-29T05:41:11.115079Z",
     "start_time": "2024-05-29T05:41:11.082976Z"
    }
   },
   "outputs": [
    {
     "data": {
      "text/plain": "(4457, 7670)"
     },
     "execution_count": 20,
     "metadata": {},
     "output_type": "execute_result"
    }
   ],
   "source": [
    "X_train_cv.shape"
   ]
  },
  {
   "cell_type": "code",
   "execution_count": 21,
   "id": "12f55cc1",
   "metadata": {
    "ExecuteTime": {
     "end_time": "2024-05-29T05:41:11.119018Z",
     "start_time": "2024-05-29T05:41:11.111039Z"
    }
   },
   "outputs": [
    {
     "data": {
      "text/plain": "'chicken'"
     },
     "execution_count": 21,
     "metadata": {},
     "output_type": "execute_result"
    }
   ],
   "source": [
    "v.get_feature_names_out()[1771]"
   ]
  },
  {
   "cell_type": "code",
   "execution_count": 22,
   "id": "7ed0a094",
   "metadata": {
    "ExecuteTime": {
     "end_time": "2024-05-29T05:41:11.246976Z",
     "start_time": "2024-05-29T05:41:11.241240Z"
    }
   },
   "outputs": [
    {
     "data": {
      "text/plain": "{'what': 7392,\n 'do': 2373,\n 'want': 7294,\n 'for': 2924,\n 'xmas': 7577,\n 'how': 3510,\n 'about': 753,\n '100': 255,\n 'free': 2971,\n 'text': 6720,\n 'messages': 4419,\n 'new': 4717,\n 'video': 7207,\n 'phone': 5135,\n 'with': 7466,\n 'half': 3288,\n 'price': 5353,\n 'line': 4094,\n 'rental': 5647,\n 'call': 1601,\n 'now': 4799,\n 'on': 4891,\n '0800': 45,\n '0721072': 26,\n 'to': 6869,\n 'find': 2838,\n 'out': 4963,\n 'more': 4548,\n 'love': 4194,\n 'you': 7632,\n 'aathi': 741,\n 'lot': 4181,\n 'send': 5955,\n 'something': 6252,\n 'that': 6745,\n 'can': 1625,\n 'sell': 5947,\n 'fast': 2769,\n 'lt': 4217,\n 'gt': 3243,\n 'is': 3732,\n 'not': 4786,\n 'easy': 2512,\n 'money': 4533,\n 'forwarded': 2949,\n 'from': 3008,\n '88877': 697,\n 'entry': 2615,\n 'into': 3701,\n 'our': 4961,\n '250': 367,\n 'weekly': 7358,\n 'comp': 1909,\n 'just': 3858,\n 'the': 6748,\n 'word': 7512,\n 'enter': 2605,\n '18': 319,\n 'www': 7566,\n 'textcomp': 6725,\n 'com': 1890,\n 'she': 6020,\n 'replying': 5661,\n 'has': 3330,\n 'boye': 1466,\n 'changed': 1716,\n 'his': 3430,\n 'number': 4813,\n 'it': 3743,\n 'issues': 3742,\n 'right': 5727,\n 'ill': 3596,\n 'fix': 2864,\n 'her': 3400,\n 'by': 1587,\n 'tomorrow': 6891,\n 'actually': 802,\n 'waiting': 7273,\n 'weeks': 7359,\n 'when': 7399,\n 'they': 6773,\n 'start': 6396,\n 'putting': 5457,\n 'ad': 803,\n 'yunny': 7651,\n 'goin': 3155,\n 'be': 1256,\n 'late': 3997,\n 'oh': 4869,\n 'ho': 3449,\n 'this': 6787,\n 'first': 2857,\n 'time': 6837,\n 'use': 7143,\n 'these': 6767,\n 'type': 7039,\n 'of': 4848,\n 'words': 7513,\n 'prabha': 5300,\n 'soryda': 6284,\n 'realy': 5555,\n 'frm': 2997,\n 'heart': 3367,\n 'sory': 6283,\n 'hey': 3411,\n 'werethe': 7382,\n 'monkeespeople': 4534,\n 'say': 5875,\n 'we': 7332,\n 'monkeyaround': 4535,\n 'howdy': 3513,\n 'gorgeous': 3180,\n 'howu': 3516,\n 'doin': 2394,\n 'foundurself': 2952,\n 'jobyet': 3820,\n 'sausage': 5868,\n 'jen': 3798,\n 'xxx': 7584,\n 'get': 3099,\n 'lions': 4106,\n 'england': 2595,\n 'tone': 6893,\n 'reply': 5660,\n 'lionm': 4104,\n 'mono': 4537,\n 'or': 4928,\n 'lionp': 4105,\n 'poly': 5243,\n 'go': 3144,\n 'ringtones': 5738,\n 'co': 1858,\n 'uk': 7052,\n 'original': 4945,\n 'best': 1315,\n 'tones': 6894,\n '3gbp': 460,\n 'network': 4708,\n 'operator': 4917,\n 'rates': 5520,\n 'apply': 1019,\n '25p': 370,\n 'alfie': 901,\n 'moon': 4546,\n 'children': 1778,\n 'in': 3625,\n 'need': 4686,\n 'song': 6264,\n 'ur': 7126,\n 'mob': 4504,\n 'tell': 6686,\n 'm8s': 4251,\n 'txt': 7026,\n 'charity': 1728,\n '8007': 635,\n 'nokias': 4766,\n 'polys': 5249,\n 'zed': 7660,\n '08701417012': 73,\n 'profit': 5390,\n 'daddy': 2146,\n 'shu': 6085,\n 'looking': 4166,\n 'wan': 7290,\n 'me': 4370,\n 'him': 3424,\n 're': 5535,\n 'singapore': 6120,\n 'wat': 7313,\n 'and': 955,\n 'sleep': 6160,\n 'well': 7371,\n 'take': 6620,\n 'rest': 5690,\n 'huh': 3533,\n 'hyde': 3559,\n 'park': 5037,\n 'mel': 4396,\n 'ah': 871,\n 'opps': 4923,\n 'got': 3184,\n 'confused': 1953,\n 'anyway': 1000,\n 'if': 3586,\n 'tt': 7001,\n 'choice': 1794,\n 'den': 2243,\n 'juz': 3861,\n 'have': 3344,\n 'no': 4755,\n 'yes': 7617,\n 'please': 5197,\n 'been': 1279,\n 'swimming': 6596,\n 'still': 6429,\n 'havent': 3347,\n 'collected': 1881,\n 'dough': 2423,\n 'pls': 5205,\n 'let': 4055,\n 'know': 3936,\n 'so': 6228,\n 'place': 5177,\n 'sent': 5964,\n 'control': 1982,\n 'feel': 2790,\n 'like': 4082,\n 'trying': 6994,\n 'kadeem': 3864,\n 'again': 857,\n 'hi': 3415,\n 'sexychat': 5993,\n 'girls': 3123,\n 'are': 1045,\n 'them': 6756,\n 'great': 3217,\n 'night': 4738,\n 'chatting': 1739,\n 'stop': 6441,\n 'service': 5976,\n 'soon': 6269,\n 'will': 7437,\n 'real': 5546,\n 'thing': 6777,\n 'princess': 5358,\n 'make': 4293,\n 'wet': 7389,\n 'might': 4433,\n 'come': 1896,\n 'then': 6760,\n 'at': 1109,\n 'esplanade': 2639,\n 'mind': 4446,\n 'giving': 3129,\n 'lift': 4075,\n 'cos': 2011,\n 'car': 1643,\n 'today': 6873,\n 'mandy': 4310,\n 'sullivan': 6534,\n 'calling': 1613,\n 'hotmix': 3501,\n 'fm': 2900,\n 'chosen': 1800,\n 'receive': 5570,\n '5000': 530,\n '00': 0,\n 'easter': 2511,\n 'prize': 5368,\n 'draw': 2438,\n 'telephone': 6684,\n '09041940223': 156,\n 'claim': 1814,\n 'before': 1285,\n '29': 379,\n '03': 14,\n '05': 16,\n 'your': 7636,\n 'transferred': 6952,\n 'someone': 6246,\n 'else': 2562,\n 'give': 3126,\n 'drink': 2446,\n 'takes': 6623,\n 'doesn': 2384,\n 'vomit': 7240,\n 'temp': 6693,\n 'drop': 2457,\n 'unmits': 7097,\n 'however': 3514,\n 'obviously': 4838,\n 'but': 1570,\n 'eggs': 2542,\n 'pert': 5117,\n 'potato': 5283,\n 'head': 3355,\n 'speak': 6309,\n 'care': 1648,\n 'learn': 4025,\n 'change': 1715,\n 'life': 4071,\n 'only': 4902,\n 'convinced': 1989,\n 'wait': 7270,\n 'conversations': 1984,\n 'between': 1323,\n 'us': 7140,\n 'family': 2755,\n 'over': 4978,\n 'many': 4315,\n 'senses': 5962,\n 'respect': 5682,\n 'overemphasise': 4981,\n 'role': 5758,\n 'my': 4625,\n 'was': 7307,\n 'cancelled': 1631,\n 'yeah': 7605,\n 'baby': 1180,\n 'sounds': 6289,\n 'important': 3616,\n 'understand': 7073,\n 'darlin': 2166,\n 'ring': 5733,\n 'later': 4000,\n 'fone': 2911,\n 'kate': 3878,\n 'dai': 2148,\n 'da': 2142,\n 'resume': 5700,\n 'id': 3575,\n 'wasn': 7309,\n 'paying': 5073,\n 'attention': 1122,\n 'alright': 921,\n 'omw': 4890,\n 'gotta': 3188,\n 'order': 4934,\n 'half8th': 3289,\n 'nosy': 4785,\n 'guess': 3252,\n 'idk': 3583,\n 'am': 930,\n 'reacting': 5540,\n 'freaked': 2967,\n 'reverse': 5712,\n 'cheating': 1743,\n 'mathematics': 4349,\n 'people': 5093,\n 'seems': 5936,\n 'special': 6311,\n 'sight': 6098,\n 'very': 7198,\n 'few': 2806,\n 'remain': 5628,\n 'till': 6835,\n 'last': 3995,\n 'maintain': 4290,\n 'ends': 2587,\n 'cr': 2043,\n 'there': 6766,\n 'see': 5929,\n 'maybe': 4364,\n 'should': 6068,\n 'reboot': 5563,\n 'ym': 7625,\n 'seen': 5937,\n 'buzz': 1581,\n 'ma': 4253,\n 'dey': 2285,\n 'swell': 6594,\n 'thanks': 6737,\n 'making': 4297,\n 'day': 2182,\n 'friend': 2991,\n 'studying': 6485,\n 'warwick': 7306,\n 've': 7187,\n 'planned': 5184,\n 'shopping': 6058,\n 'concert': 1942,\n 'tmw': 6866,\n 'may': 4362,\n 'canceled': 1630,\n 'havn': 3351,\n 'ages': 866,\n 'together': 6876,\n 'sometime': 6253,\n 'pen': 5087,\n 'beyond': 1327,\n 'joke': 3828,\n 'wont': 7503,\n 'biro': 1355,\n 'don': 2404,\n 'masters': 4340,\n 'as': 1078,\n 'ever': 2660,\n 'hmmm': 3443,\n 'thk': 6788,\n 'sure': 6567,\n 'hop': 3477,\n 'ard': 1044,\n 'ya': 7592,\n 'abt': 760,\n 'muz': 4622,\n 'discuss': 2351,\n 'liao': 4062,\n 'game': 3052,\n 'rayman': 5527,\n 'golf': 3160,\n 'o2': 4831,\n 'games': 3053,\n 'arcade': 1042,\n '1st': 334,\n 'settings': 5982,\n 'post': 5276,\n 'save': 5870,\n 'activ8': 796,\n 'press': 5341,\n 'key': 3897,\n 'termsapply': 6706,\n 'win': 7440,\n 'urgent': 7130,\n 'mobile': 4506,\n 'awarded': 1160,\n '2000': 346,\n 'guaranteed': 3246,\n '09061790121': 201,\n 'land': 3978,\n '3030': 432,\n 'valid': 7169,\n '12hrs': 288,\n '150ppm': 309,\n 'smith': 6199,\n 'waste': 7311,\n 'wanna': 7292,\n 'gayle': 3072,\n 'india': 3647,\n 'going': 3156,\n 'series': 5971,\n 'after': 850,\n 'years': 7607,\n 'south': 6294,\n 'african': 848,\n 'soil': 6235,\n 'top': 6913,\n 'ringtone': 5736,\n 'sub': 6499,\n 'week': 7354,\n 'subpoly': 6502,\n '81618': 649,\n 'per': 5095,\n 'sms': 6206,\n '08718727870': 140,\n 'dad': 2145,\n 'back': 1185,\n 'ph': 5126,\n 'double': 2418,\n 'mins': 4458,\n 'txts': 7033,\n '6months': 598,\n 'bluetooth': 1401,\n 'orange': 4931,\n 'available': 1144,\n 'sony': 6266,\n 'nokia': 4763,\n 'motorola': 4562,\n 'phones': 5139,\n 'mobileupd8': 4510,\n '08000839402': 48,\n 'call2optout': 1603,\n 'n9dx': 4633,\n 'days': 2183,\n 'euro2004': 2648,\n 'kickoff': 3906,\n 'kept': 3892,\n 'informed': 3660,\n 'all': 907,\n 'latest': 4001,\n 'news': 4722,\n 'results': 5699,\n 'daily': 2149,\n 'unsubscribe': 7105,\n 'euro': 2647,\n '83222': 656,\n 'home': 3465,\n 'one': 4896,\n 'anything': 997,\n 'trust': 6989,\n 'details': 2276,\n 'online': 4900,\n 'job': 3818,\n 'hope': 3478,\n 'meets': 4391,\n 'smiling': 6198,\n 'reason': 5558,\n 'smile': 6194,\n 'beautiful': 1263,\n 'gonna': 3165,\n 'way': 7327,\n 'specific': 6316,\n 'than': 6733,\n 'cant': 1635,\n 'keep': 3886,\n 'talking': 6632,\n 'pay': 5068,\n 'agree': 870,\n 'really': 5554,\n 'buy': 1575,\n 'much': 4594,\n 'willing': 7438,\n 'aight': 880,\n 'address': 811,\n 'also': 923,\n 'doing': 2396,\n 'cbe': 1689,\n 'heehee': 3377,\n 'funny': 3034,\n 'tho': 6794,\n 'stuck': 6478,\n 'orchard': 4933,\n 'dinner': 2329,\n 'leh': 4041,\n 'tonight': 6899,\n 'printed': 5360,\n 'upstairs': 7123,\n 'purity': 5447,\n 'friendship': 2993,\n 'two': 7024,\n 'reading': 5544,\n 'message': 4417,\n 'its': 3751,\n 'seeing': 5931,\n 'name': 4643,\n 'gud': 3248,\n 'evng': 2673,\n 'sweet': 6589,\n 'around': 1064,\n 'wanted': 7296,\n 'wish': 7459,\n 'happy': 3320,\n 'year': 7606,\n 'talk': 6628,\n 'some': 6243,\n 'legal': 4038,\n 'advice': 832,\n 'gary': 3064,\n 'split': 6339,\n 'person': 5111,\n 'll': 4129,\n 'trip': 6974,\n 'ptbo': 5429,\n 'everything': 2667,\n 'good': 3167,\n 'babe': 1178,\n 'fact': 2735,\n 'cleaning': 1829,\n 'shows': 6080,\n 'why': 7421,\n 'upset': 7122,\n 'priority': 5363,\n 'constantly': 1970,\n 'sorry': 6277,\n 'battery': 1239,\n 'died': 2306,\n 'getting': 3107,\n 'gram': 3202,\n 'where': 7403,\n 'lingo': 4099,\n 'wot': 7531,\n 'earth': 2506,\n 'finished': 2846,\n 'deus': 2280,\n 'ex': 2681,\n 'comin': 1901,\n 'early': 2502,\n 'next': 4726,\n 'yr': 7645,\n 'mrng': 4575,\n 'dear': 2192,\n 'hav': 3341,\n 'nice': 4730,\n 'ok': 4873,\n 'purchase': 5444,\n 'stuff': 6487,\n 'mail': 4285,\n 'po': 5214,\n 'box': 1451,\n 'simply': 6113,\n 'sitting': 6135,\n 'watching': 7317,\n 'match': 4342,\n 'office': 4859,\n 'rite': 5743,\n 'put': 5454,\n '10': 254,\n 'evey': 2669,\n 'mnth': 4500,\n 'nordstrom': 4776,\n 'done': 2405,\n 'doctor': 2379,\n 'appy': 1034,\n 'fizz': 2867,\n 'contains': 1974,\n 'cancer': 1632,\n 'causing': 1686,\n 'age': 860,\n 'said': 5827,\n 'anymore': 991,\n 'nothing': 4791,\n 'cool': 1995,\n 'tyler': 7038,\n 'had': 3277,\n 'off': 4850,\n 'total': 6925,\n 'quarter': 5466,\n 'enough': 2603,\n 'yup': 7654,\n 'look': 4162,\n 'timings': 6841,\n 'msg': 4578,\n 'xuhui': 7580,\n '2nd': 404,\n 'too': 6904,\n 'lesson': 4053,\n '8am': 706,\n 'didn': 2302,\n 'hep': 3399,\n 'immunisation': 3611,\n 'nigeria': 4736,\n 'company': 1912,\n 'environment': 2619,\n 'terrific': 6709,\n 'food': 2914,\n 'thank': 6736,\n 'winner': 7449,\n 'notified': 4794,\n 'luck': 4221,\n 'future': 3039,\n 'marketing': 4326,\n '84122': 667,\n 'customer': 2129,\n 'services': 5977,\n '08450542832': 65,\n 'mallika': 4301,\n 'sherawat': 6027,\n 'did': 2300,\n 'yesterday': 7619,\n 'url': 7136,\n 'bank': 1210,\n 'package': 4998,\n 'programs': 5392,\n 'wk': 7476,\n 'hols': 3463,\n 'bit': 1360,\n 'run': 5803,\n 'forgot': 2936,\n 'hairdressers': 3285,\n 'appointment': 1022,\n 'four': 2953,\n 'shower': 6076,\n 'beforehand': 1286,\n 'does': 2382,\n 'cause': 1684,\n 'prob': 5372,\n 'being': 1296,\n 'ripped': 5739,\n 'content': 1975,\n 'clubmoby': 1849,\n '08717509990': 129,\n 'true': 6985,\n 'pix': 5174,\n 'six': 6139,\n 'downloads': 2427,\n 'check': 1745,\n 'hungry': 3543,\n 'gay': 3071,\n 'guys': 3266,\n 'feeling': 2792,\n 'up': 7108,\n '08718730555': 142,\n '10p': 264,\n 'min': 4444,\n 'texts': 6730,\n '08712460324': 108,\n 'musthu': 4618,\n 'train': 6941,\n 'northampton': 4782,\n 'afraid': 846,\n 'fancy': 2760,\n 'shag': 6000,\n 'interested': 3692,\n 'sextextuk': 5990,\n 'xxuk': 7583,\n 'suzy': 6579,\n '69876': 587,\n 'cost': 2012,\n '50': 528,\n 'tncs': 6868,\n 'website': 7345,\n 'ask': 1085,\n 'other': 4953,\n 'jus': 3857,\n 'gift': 3114,\n 'dont': 2407,\n 'thnk': 6791,\n 'wrong': 7551,\n 'reminder': 5636,\n 'pounds': 5289,\n 'credit': 2065,\n 'offers': 4858,\n 'house': 3505,\n 'postcode': 5278,\n 'freemsg': 2977,\n 'buffy': 1546,\n '25': 366,\n 'satisfy': 5863,\n 'men': 4405,\n 'alone': 917,\n 'randy': 5514,\n 'qlynnbv': 5464,\n 'help08700621170150p': 3389,\n '07734396839': 28,\n 'ibh': 3563,\n 'loyalty': 4211,\n 'offer': 4855,\n 'nokia6600': 4764,\n 'txtauction': 7029,\n '81151': 647,\n 'yours': 7639,\n '4t': 518,\n 'whats': 7394,\n 'plan': 5180,\n 'sat': 5859,\n 'worrying': 7526,\n 'appt': 1033,\n 'shame': 6008,\n 'missed': 4472,\n 'quizzes': 5483,\n 'popcorn': 5258,\n 'hair': 3284,\n 'beauty': 1264,\n 'help': 3388,\n 'pimples': 5165,\n 'those': 6795,\n 'were': 7380,\n 'exact': 2682,\n 'intentions': 3690,\n 'every': 2661,\n 'monday': 4531,\n 'nxt': 4824,\n 'vl': 7234,\n 'completing': 1926,\n 'drastic': 2437,\n 'dare': 2161,\n 'pc': 5077,\n 'telling': 6687,\n 'tht': 6815,\n 'incident': 3630,\n 'motivate': 4560,\n 'behind': 1294,\n 'darkness': 2165,\n 'shining': 6036,\n 'light': 4078,\n 'always': 928,\n 'bslvyl': 1530,\n 'he': 3354,\n 'skateboarding': 6144,\n 'despite': 2272,\n 'gets': 3103,\n 'thrown': 6811,\n 'winds': 7444,\n 'bandages': 1205,\n 'shit': 6043,\n 'arms': 1060,\n 'five': 2863,\n 'minutes': 4462,\n 'monthly': 4542,\n 'password': 5057,\n 'wap': 7299,\n 'mobsi': 4513,\n '391784': 455,\n 'pretty': 5347,\n 'case': 1669,\n 'scenario': 5884,\n 'plumbers': 5207,\n 'tape': 6641,\n 'wrench': 7541,\n 'could': 2022,\n 'borrow': 1438,\n 'pleased': 5198,\n 'inform': 3658,\n 'application': 1018,\n 'airtel': 885,\n 'broadband': 1512,\n 'processed': 5382,\n 'successfully': 6517,\n 'installation': 3679,\n 'happen': 3311,\n 'within': 7469,\n 'pick': 5150,\n 'senthil': 5966,\n 'hsbc': 3522,\n 'while': 7409,\n 'went': 7377,\n 'bed': 1272,\n 'long': 4158,\n 'spoke': 6344,\n 'woke': 7491,\n 'sir': 6126,\n 'dunno': 2487,\n 'lei': 4042,\n 'dun': 2486,\n 'haf': 3279,\n 'working': 7517,\n 'chat': 1735,\n 'things': 6778,\n 'bored': 1434,\n 'etc': 2644,\n 'nose': 4784,\n 'essay': 2640,\n 'xx': 7581,\n 'todays': 6874,\n 'voda': 7235,\n 'numbers': 4814,\n 'ending': 2584,\n '7634': 615,\n 'selected': 5942,\n '350': 447,\n 'reward': 5715,\n '08712300220': 95,\n 'quoting': 5485,\n 'code': 1869,\n '7684': 616,\n 'standard': 6388,\n 'same': 5841,\n 'question': 5471,\n 'coming': 1902,\n 'class': 1822,\n 'bad': 1188,\n 'avoid': 1153,\n 'hear': 3364,\n 'philosophy': 5132,\n 'ey': 2726,\n 'calm': 1617,\n 'downon': 2428,\n 'theacusations': 6750,\n 'itxt': 3754,\n 'iwana': 3757,\n 'wotu': 7532,\n 'thew': 6772,\n 'end': 2582,\n 'haventcn': 3348,\n 'up4': 7109,\n 'nething': 4705,\n 'hard': 3321,\n 'live': 4121,\n '121': 280,\n '60p': 565,\n 'choose': 1796,\n 'girl': 3120,\n 'connect': 1958,\n '09094646899': 242,\n 'cheap': 1740,\n 'biggest': 1340,\n 'vu': 7250,\n 'bcm1896wc1n3xx': 1248,\n 'film': 2832,\n 'computer': 1934,\n 'collecting': 1882,\n 'laptop': 3989,\n 'configure': 1948,\n 'izzit': 3761,\n 'nope': 4773,\n 'show': 6074,\n 'meet': 4387,\n 'sunoco': 6546,\n 'howard': 3511,\n 'any': 988,\n 'frnd': 2999,\n 'ashwini': 1082,\n 'college': 1885,\n 'audrie': 1132,\n 'lousy': 4191,\n 'autocorrect': 1141,\n 'minor': 4457,\n 'crisis': 2076,\n 'sooner': 6270,\n 'thought': 6799,\n 'here': 3401,\n 'asap': 1079,\n 'melody': 4398,\n '150': 303,\n 'worth': 7529,\n 'discount': 2349,\n 'vouchers': 7245,\n '85023': 673,\n 'savamob': 5869,\n 'member': 4400,\n 'cs': 2091,\n '08717898035': 132,\n '16': 314,\n 'unsub': 7104,\n 'afternoon': 852,\n 'goes': 3152,\n 'italian': 3744,\n 'boy': 1465,\n 'grins': 3226,\n 'macho': 4262,\n 'budget': 1542,\n 'bb': 1242,\n 'bold': 1413,\n 'saw': 5874,\n 'dollars': 2401,\n 'cthen': 2099,\n 'shd': 6019,\n 'enuff': 2617,\n 'conclusion': 1943,\n 'contents': 1977,\n 'pg': 5125,\n 'references': 5593,\n 'cover': 2037,\n 'roommate': 5766,\n 'wants': 7298,\n 'dubsack': 2476,\n 'another': 975,\n 'bringing': 1504,\n 'extra': 2725,\n 'arranging': 1066,\n 'fetch': 2803,\n 'mah': 4281,\n 'lost': 4180,\n 'kilos': 3915,\n 'hack': 3276,\n 'backdoor': 1186,\n 'rooms': 5768,\n 'fraction': 2959,\n 'neo69': 4700,\n '09050280520': 167,\n 'subscribe': 6505,\n 'pm': 5213,\n 'dps': 2431,\n 'bcm': 1247,\n '8027': 641,\n 'ldn': 4018,\n 'wc1n3xx': 7331,\n 'camera': 1621,\n 'sipix': 6124,\n 'digital': 2319,\n '09061221066': 189,\n 'fromm': 3009,\n 'landline': 3980,\n 'delivery': 2239,\n '28': 375,\n 'disturb': 2361,\n '09066362231': 224,\n '07xxxxxxxxx': 43,\n 'won': 7496,\n '000': 1,\n 'bonus': 1420,\n 'caller': 1609,\n '02': 8,\n '06': 19,\n 'attempt': 1118,\n 'reach': 5536,\n 'mesages': 4415,\n 'thats': 6747,\n 'hurts': 3551,\n '08712402578': 102,\n 'immediately': 3610,\n 'an': 950,\n 'quick': 5474,\n 'laid': 3973,\n 'dogging': 2390,\n 'locations': 4140,\n 'direct': 2333,\n 'join': 3825,\n 'largest': 3993,\n 'bt': 1534,\n 'txting': 7031,\n 'gravel': 3213,\n '69888': 588,\n 'nt': 4804,\n 'ec2a': 2518,\n '31p': 439,\n '150p': 305,\n 'mila': 4436,\n 'age23': 862,\n 'blonde': 1391,\n 'sex': 5988,\n 'fun': 3027,\n 'mtalk': 4585,\n '69866': 586,\n '30pp': 434,\n '5free': 550,\n 'increments': 3642,\n 'help08718728876': 3391,\n 'missionary': 4475,\n 'hook': 3475,\n 'doggy': 2391,\n 'standing': 6389,\n 'gimme': 3117,\n 'ago': 869,\n 'mmmmmmm': 4497,\n 'snuggles': 6227,\n 'deep': 2213,\n 'contented': 1976,\n 'sigh': 6096,\n 'whispers': 7410,\n 'fucking': 3019,\n 'barely': 1218,\n 'stand': 6387,\n 'yet': 7620,\n 'chikku': 1774,\n 'simple': 6111,\n 'habba': 3274,\n 'hw': 3558,\n 'old': 4884,\n 'high': 3420,\n 'genius': 3089,\n ...}"
     },
     "execution_count": 22,
     "metadata": {},
     "output_type": "execute_result"
    }
   ],
   "source": [
    "v.vocabulary_"
   ]
  },
  {
   "cell_type": "code",
   "execution_count": 23,
   "id": "a805af1f",
   "metadata": {
    "ExecuteTime": {
     "end_time": "2024-05-29T05:41:12.105856Z",
     "start_time": "2024-05-29T05:41:12.049314Z"
    }
   },
   "outputs": [
    {
     "data": {
      "text/plain": "array([0, 0, 0, ..., 0, 0, 0])"
     },
     "execution_count": 23,
     "metadata": {},
     "output_type": "execute_result"
    }
   ],
   "source": [
    "X_train_np = X_train_cv.toarray()\n",
    "X_train_np[0]"
   ]
  },
  {
   "cell_type": "code",
   "execution_count": 41,
   "id": "79aa94f4",
   "metadata": {},
   "outputs": [
    {
     "data": {
      "text/plain": [
       "(array([ 755,  916, 1125, 1127, 1279, 1483, 1771, 1842, 1928, 2046, 2263,\n",
       "        2290, 2327, 2464, 2744, 3018, 3151, 3154, 3195, 3272, 3348, 3391,\n",
       "        3541, 3717, 3770, 4138, 4218, 4237, 4311, 4706, 4804, 4908, 4951,\n",
       "        5117, 5423, 5425, 5432, 6474, 6588, 6847, 6966, 7184, 7191, 7302],\n",
       "       dtype=int64),)"
      ]
     },
     "execution_count": 41,
     "metadata": {},
     "output_type": "execute_result"
    }
   ],
   "source": [
    "np.where(X_train_np[0]!=0)"
   ]
  },
  {
   "cell_type": "markdown",
   "id": "e6ea444a",
   "metadata": {},
   "source": [
    "<h3>Training the naive bayes model</h3>"
   ]
  },
  {
   "cell_type": "code",
   "execution_count": 24,
   "id": "bf02cecc",
   "metadata": {
    "ExecuteTime": {
     "end_time": "2024-05-29T05:41:41.000050Z",
     "start_time": "2024-05-29T05:41:40.976653Z"
    }
   },
   "outputs": [
    {
     "data": {
      "text/plain": "MultinomialNB()",
      "text/html": "<style>#sk-container-id-1 {color: black;background-color: white;}#sk-container-id-1 pre{padding: 0;}#sk-container-id-1 div.sk-toggleable {background-color: white;}#sk-container-id-1 label.sk-toggleable__label {cursor: pointer;display: block;width: 100%;margin-bottom: 0;padding: 0.3em;box-sizing: border-box;text-align: center;}#sk-container-id-1 label.sk-toggleable__label-arrow:before {content: \"▸\";float: left;margin-right: 0.25em;color: #696969;}#sk-container-id-1 label.sk-toggleable__label-arrow:hover:before {color: black;}#sk-container-id-1 div.sk-estimator:hover label.sk-toggleable__label-arrow:before {color: black;}#sk-container-id-1 div.sk-toggleable__content {max-height: 0;max-width: 0;overflow: hidden;text-align: left;background-color: #f0f8ff;}#sk-container-id-1 div.sk-toggleable__content pre {margin: 0.2em;color: black;border-radius: 0.25em;background-color: #f0f8ff;}#sk-container-id-1 input.sk-toggleable__control:checked~div.sk-toggleable__content {max-height: 200px;max-width: 100%;overflow: auto;}#sk-container-id-1 input.sk-toggleable__control:checked~label.sk-toggleable__label-arrow:before {content: \"▾\";}#sk-container-id-1 div.sk-estimator input.sk-toggleable__control:checked~label.sk-toggleable__label {background-color: #d4ebff;}#sk-container-id-1 div.sk-label input.sk-toggleable__control:checked~label.sk-toggleable__label {background-color: #d4ebff;}#sk-container-id-1 input.sk-hidden--visually {border: 0;clip: rect(1px 1px 1px 1px);clip: rect(1px, 1px, 1px, 1px);height: 1px;margin: -1px;overflow: hidden;padding: 0;position: absolute;width: 1px;}#sk-container-id-1 div.sk-estimator {font-family: monospace;background-color: #f0f8ff;border: 1px dotted black;border-radius: 0.25em;box-sizing: border-box;margin-bottom: 0.5em;}#sk-container-id-1 div.sk-estimator:hover {background-color: #d4ebff;}#sk-container-id-1 div.sk-parallel-item::after {content: \"\";width: 100%;border-bottom: 1px solid gray;flex-grow: 1;}#sk-container-id-1 div.sk-label:hover label.sk-toggleable__label {background-color: #d4ebff;}#sk-container-id-1 div.sk-serial::before {content: \"\";position: absolute;border-left: 1px solid gray;box-sizing: border-box;top: 0;bottom: 0;left: 50%;z-index: 0;}#sk-container-id-1 div.sk-serial {display: flex;flex-direction: column;align-items: center;background-color: white;padding-right: 0.2em;padding-left: 0.2em;position: relative;}#sk-container-id-1 div.sk-item {position: relative;z-index: 1;}#sk-container-id-1 div.sk-parallel {display: flex;align-items: stretch;justify-content: center;background-color: white;position: relative;}#sk-container-id-1 div.sk-item::before, #sk-container-id-1 div.sk-parallel-item::before {content: \"\";position: absolute;border-left: 1px solid gray;box-sizing: border-box;top: 0;bottom: 0;left: 50%;z-index: -1;}#sk-container-id-1 div.sk-parallel-item {display: flex;flex-direction: column;z-index: 1;position: relative;background-color: white;}#sk-container-id-1 div.sk-parallel-item:first-child::after {align-self: flex-end;width: 50%;}#sk-container-id-1 div.sk-parallel-item:last-child::after {align-self: flex-start;width: 50%;}#sk-container-id-1 div.sk-parallel-item:only-child::after {width: 0;}#sk-container-id-1 div.sk-dashed-wrapped {border: 1px dashed gray;margin: 0 0.4em 0.5em 0.4em;box-sizing: border-box;padding-bottom: 0.4em;background-color: white;}#sk-container-id-1 div.sk-label label {font-family: monospace;font-weight: bold;display: inline-block;line-height: 1.2em;}#sk-container-id-1 div.sk-label-container {text-align: center;}#sk-container-id-1 div.sk-container {/* jupyter's `normalize.less` sets `[hidden] { display: none; }` but bootstrap.min.css set `[hidden] { display: none !important; }` so we also need the `!important` here to be able to override the default hidden behavior on the sphinx rendered scikit-learn.org. See: https://github.com/scikit-learn/scikit-learn/issues/21755 */display: inline-block !important;position: relative;}#sk-container-id-1 div.sk-text-repr-fallback {display: none;}</style><div id=\"sk-container-id-1\" class=\"sk-top-container\"><div class=\"sk-text-repr-fallback\"><pre>MultinomialNB()</pre><b>In a Jupyter environment, please rerun this cell to show the HTML representation or trust the notebook. <br />On GitHub, the HTML representation is unable to render, please try loading this page with nbviewer.org.</b></div><div class=\"sk-container\" hidden><div class=\"sk-item\"><div class=\"sk-estimator sk-toggleable\"><input class=\"sk-toggleable__control sk-hidden--visually\" id=\"sk-estimator-id-1\" type=\"checkbox\" checked><label for=\"sk-estimator-id-1\" class=\"sk-toggleable__label sk-toggleable__label-arrow\">MultinomialNB</label><div class=\"sk-toggleable__content\"><pre>MultinomialNB()</pre></div></div></div></div></div>"
     },
     "execution_count": 24,
     "metadata": {},
     "output_type": "execute_result"
    }
   ],
   "source": [
    "from sklearn.naive_bayes import MultinomialNB\n",
    "\n",
    "model = MultinomialNB()\n",
    "model.fit(X_train_cv, y_train)"
   ]
  },
  {
   "cell_type": "code",
   "execution_count": 25,
   "id": "94f569a6",
   "metadata": {
    "ExecuteTime": {
     "end_time": "2024-05-29T05:41:43.270041Z",
     "start_time": "2024-05-29T05:41:43.260383Z"
    }
   },
   "outputs": [],
   "source": [
    "X_test_cv = v.transform(X_test)"
   ]
  },
  {
   "cell_type": "markdown",
   "id": "101b8b8d",
   "metadata": {},
   "source": [
    "<h3>Evaluate Performance</h3>"
   ]
  },
  {
   "cell_type": "code",
   "execution_count": 26,
   "id": "1c0cb441",
   "metadata": {
    "ExecuteTime": {
     "end_time": "2024-05-29T05:41:45.057979Z",
     "start_time": "2024-05-29T05:41:45.048306Z"
    }
   },
   "outputs": [
    {
     "name": "stdout",
     "output_type": "stream",
     "text": [
      "              precision    recall  f1-score   support\n",
      "\n",
      "           0       0.99      1.00      0.99       961\n",
      "           1       0.97      0.91      0.94       154\n",
      "\n",
      "    accuracy                           0.98      1115\n",
      "   macro avg       0.98      0.95      0.97      1115\n",
      "weighted avg       0.98      0.98      0.98      1115\n"
     ]
    }
   ],
   "source": [
    "from sklearn.metrics import classification_report\n",
    "\n",
    "y_pred = model.predict(X_test_cv)\n",
    "\n",
    "print(classification_report(y_test, y_pred))"
   ]
  },
  {
   "cell_type": "code",
   "execution_count": 27,
   "id": "27dcf0b7",
   "metadata": {
    "scrolled": true,
    "ExecuteTime": {
     "end_time": "2024-05-29T05:41:45.800704Z",
     "start_time": "2024-05-29T05:41:45.793061Z"
    }
   },
   "outputs": [
    {
     "data": {
      "text/plain": "array([0, 1])"
     },
     "execution_count": 27,
     "metadata": {},
     "output_type": "execute_result"
    }
   ],
   "source": [
    "emails = [\n",
    "    'Hey mohan, can we get together to watch footbal game tomorrow?',\n",
    "    'Upto 20% discount on parking, exclusive offer just for you. Dont miss this reward!'\n",
    "]\n",
    "\n",
    "emails_count = v.transform(emails)\n",
    "model.predict(emails_count)"
   ]
  },
  {
   "cell_type": "markdown",
   "id": "22c9e2e2",
   "metadata": {},
   "source": [
    "<h3>Training the model using sklearn pipeline to reduce number of lines of code</h3>"
   ]
  },
  {
   "cell_type": "code",
   "execution_count": 29,
   "id": "863f5ffa",
   "metadata": {
    "ExecuteTime": {
     "end_time": "2024-05-29T05:42:09.341388Z",
     "start_time": "2024-05-29T05:42:09.326920Z"
    }
   },
   "outputs": [],
   "source": [
    "from sklearn.pipeline import Pipeline\n",
    "\n",
    "clf = Pipeline([\n",
    "    ('vectorizer', CountVectorizer()),\n",
    "    ('nb', MultinomialNB())\n",
    "])"
   ]
  },
  {
   "cell_type": "code",
   "execution_count": 30,
   "id": "26ecc1d4",
   "metadata": {
    "ExecuteTime": {
     "end_time": "2024-05-29T05:42:09.717141Z",
     "start_time": "2024-05-29T05:42:09.670695Z"
    }
   },
   "outputs": [
    {
     "data": {
      "text/plain": "Pipeline(steps=[('vectorizer', CountVectorizer()), ('nb', MultinomialNB())])",
      "text/html": "<style>#sk-container-id-2 {color: black;background-color: white;}#sk-container-id-2 pre{padding: 0;}#sk-container-id-2 div.sk-toggleable {background-color: white;}#sk-container-id-2 label.sk-toggleable__label {cursor: pointer;display: block;width: 100%;margin-bottom: 0;padding: 0.3em;box-sizing: border-box;text-align: center;}#sk-container-id-2 label.sk-toggleable__label-arrow:before {content: \"▸\";float: left;margin-right: 0.25em;color: #696969;}#sk-container-id-2 label.sk-toggleable__label-arrow:hover:before {color: black;}#sk-container-id-2 div.sk-estimator:hover label.sk-toggleable__label-arrow:before {color: black;}#sk-container-id-2 div.sk-toggleable__content {max-height: 0;max-width: 0;overflow: hidden;text-align: left;background-color: #f0f8ff;}#sk-container-id-2 div.sk-toggleable__content pre {margin: 0.2em;color: black;border-radius: 0.25em;background-color: #f0f8ff;}#sk-container-id-2 input.sk-toggleable__control:checked~div.sk-toggleable__content {max-height: 200px;max-width: 100%;overflow: auto;}#sk-container-id-2 input.sk-toggleable__control:checked~label.sk-toggleable__label-arrow:before {content: \"▾\";}#sk-container-id-2 div.sk-estimator input.sk-toggleable__control:checked~label.sk-toggleable__label {background-color: #d4ebff;}#sk-container-id-2 div.sk-label input.sk-toggleable__control:checked~label.sk-toggleable__label {background-color: #d4ebff;}#sk-container-id-2 input.sk-hidden--visually {border: 0;clip: rect(1px 1px 1px 1px);clip: rect(1px, 1px, 1px, 1px);height: 1px;margin: -1px;overflow: hidden;padding: 0;position: absolute;width: 1px;}#sk-container-id-2 div.sk-estimator {font-family: monospace;background-color: #f0f8ff;border: 1px dotted black;border-radius: 0.25em;box-sizing: border-box;margin-bottom: 0.5em;}#sk-container-id-2 div.sk-estimator:hover {background-color: #d4ebff;}#sk-container-id-2 div.sk-parallel-item::after {content: \"\";width: 100%;border-bottom: 1px solid gray;flex-grow: 1;}#sk-container-id-2 div.sk-label:hover label.sk-toggleable__label {background-color: #d4ebff;}#sk-container-id-2 div.sk-serial::before {content: \"\";position: absolute;border-left: 1px solid gray;box-sizing: border-box;top: 0;bottom: 0;left: 50%;z-index: 0;}#sk-container-id-2 div.sk-serial {display: flex;flex-direction: column;align-items: center;background-color: white;padding-right: 0.2em;padding-left: 0.2em;position: relative;}#sk-container-id-2 div.sk-item {position: relative;z-index: 1;}#sk-container-id-2 div.sk-parallel {display: flex;align-items: stretch;justify-content: center;background-color: white;position: relative;}#sk-container-id-2 div.sk-item::before, #sk-container-id-2 div.sk-parallel-item::before {content: \"\";position: absolute;border-left: 1px solid gray;box-sizing: border-box;top: 0;bottom: 0;left: 50%;z-index: -1;}#sk-container-id-2 div.sk-parallel-item {display: flex;flex-direction: column;z-index: 1;position: relative;background-color: white;}#sk-container-id-2 div.sk-parallel-item:first-child::after {align-self: flex-end;width: 50%;}#sk-container-id-2 div.sk-parallel-item:last-child::after {align-self: flex-start;width: 50%;}#sk-container-id-2 div.sk-parallel-item:only-child::after {width: 0;}#sk-container-id-2 div.sk-dashed-wrapped {border: 1px dashed gray;margin: 0 0.4em 0.5em 0.4em;box-sizing: border-box;padding-bottom: 0.4em;background-color: white;}#sk-container-id-2 div.sk-label label {font-family: monospace;font-weight: bold;display: inline-block;line-height: 1.2em;}#sk-container-id-2 div.sk-label-container {text-align: center;}#sk-container-id-2 div.sk-container {/* jupyter's `normalize.less` sets `[hidden] { display: none; }` but bootstrap.min.css set `[hidden] { display: none !important; }` so we also need the `!important` here to be able to override the default hidden behavior on the sphinx rendered scikit-learn.org. See: https://github.com/scikit-learn/scikit-learn/issues/21755 */display: inline-block !important;position: relative;}#sk-container-id-2 div.sk-text-repr-fallback {display: none;}</style><div id=\"sk-container-id-2\" class=\"sk-top-container\"><div class=\"sk-text-repr-fallback\"><pre>Pipeline(steps=[(&#x27;vectorizer&#x27;, CountVectorizer()), (&#x27;nb&#x27;, MultinomialNB())])</pre><b>In a Jupyter environment, please rerun this cell to show the HTML representation or trust the notebook. <br />On GitHub, the HTML representation is unable to render, please try loading this page with nbviewer.org.</b></div><div class=\"sk-container\" hidden><div class=\"sk-item sk-dashed-wrapped\"><div class=\"sk-label-container\"><div class=\"sk-label sk-toggleable\"><input class=\"sk-toggleable__control sk-hidden--visually\" id=\"sk-estimator-id-2\" type=\"checkbox\" ><label for=\"sk-estimator-id-2\" class=\"sk-toggleable__label sk-toggleable__label-arrow\">Pipeline</label><div class=\"sk-toggleable__content\"><pre>Pipeline(steps=[(&#x27;vectorizer&#x27;, CountVectorizer()), (&#x27;nb&#x27;, MultinomialNB())])</pre></div></div></div><div class=\"sk-serial\"><div class=\"sk-item\"><div class=\"sk-estimator sk-toggleable\"><input class=\"sk-toggleable__control sk-hidden--visually\" id=\"sk-estimator-id-3\" type=\"checkbox\" ><label for=\"sk-estimator-id-3\" class=\"sk-toggleable__label sk-toggleable__label-arrow\">CountVectorizer</label><div class=\"sk-toggleable__content\"><pre>CountVectorizer()</pre></div></div></div><div class=\"sk-item\"><div class=\"sk-estimator sk-toggleable\"><input class=\"sk-toggleable__control sk-hidden--visually\" id=\"sk-estimator-id-4\" type=\"checkbox\" ><label for=\"sk-estimator-id-4\" class=\"sk-toggleable__label sk-toggleable__label-arrow\">MultinomialNB</label><div class=\"sk-toggleable__content\"><pre>MultinomialNB()</pre></div></div></div></div></div></div></div>"
     },
     "execution_count": 30,
     "metadata": {},
     "output_type": "execute_result"
    }
   ],
   "source": [
    "clf.fit(X_train, y_train)"
   ]
  },
  {
   "cell_type": "code",
   "execution_count": 31,
   "id": "e7d9b00b",
   "metadata": {
    "ExecuteTime": {
     "end_time": "2024-05-29T05:42:10.250624Z",
     "start_time": "2024-05-29T05:42:10.235710Z"
    }
   },
   "outputs": [
    {
     "name": "stdout",
     "output_type": "stream",
     "text": [
      "              precision    recall  f1-score   support\n",
      "\n",
      "           0       0.99      1.00      0.99       961\n",
      "           1       0.97      0.91      0.94       154\n",
      "\n",
      "    accuracy                           0.98      1115\n",
      "   macro avg       0.98      0.95      0.97      1115\n",
      "weighted avg       0.98      0.98      0.98      1115\n"
     ]
    }
   ],
   "source": [
    "y_pred = clf.predict(X_test)\n",
    "\n",
    "print(classification_report(y_test, y_pred))"
   ]
  },
  {
   "cell_type": "code",
   "execution_count": null,
   "outputs": [],
   "source": [],
   "metadata": {
    "collapsed": false
   },
   "id": "5c273bcc81a85495"
  }
 ],
 "metadata": {
  "kernelspec": {
   "display_name": "Python 3",
   "language": "python",
   "name": "python3"
  },
  "language_info": {
   "codemirror_mode": {
    "name": "ipython",
    "version": 3
   },
   "file_extension": ".py",
   "mimetype": "text/x-python",
   "name": "python",
   "nbconvert_exporter": "python",
   "pygments_lexer": "ipython3",
   "version": "3.8.10"
  }
 },
 "nbformat": 4,
 "nbformat_minor": 5
}
