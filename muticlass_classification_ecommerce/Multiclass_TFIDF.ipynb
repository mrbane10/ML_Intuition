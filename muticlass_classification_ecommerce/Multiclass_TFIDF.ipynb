{
 "cells": [
  {
   "cell_type": "markdown",
   "id": "086cea63",
   "metadata": {},
   "source": [
    "### Problem Statement: Given a description about a product sold on e-commerce website, classify it in one of the 4 categories\n",
    "\n",
    "Dataset: https://www.kaggle.com/datasets/saurabhshahane/ecommerce-text-classification\n",
    "\n"
   ]
  },
  {
   "cell_type": "code",
   "execution_count": 6,
   "outputs": [],
   "source": [
    "from sklearn.feature_extraction.text import TfidfVectorizer\n",
    "v = TfidfVectorizer()"
   ],
   "metadata": {
    "collapsed": false,
    "ExecuteTime": {
     "end_time": "2024-05-29T06:09:46.780616Z",
     "start_time": "2024-05-29T06:09:46.776897Z"
    }
   },
   "id": "bcae2e23"
  },
  {
   "cell_type": "code",
   "execution_count": 7,
   "id": "6bb3d5e3",
   "metadata": {
    "ExecuteTime": {
     "end_time": "2024-05-29T06:09:48.157079Z",
     "start_time": "2024-05-29T06:09:47.958361Z"
    }
   },
   "outputs": [
    {
     "name": "stdout",
     "output_type": "stream",
     "text": [
      "(24000, 2)\n"
     ]
    },
    {
     "data": {
      "text/plain": "                                                Text                   label\n0  Urban Ladder Eisner Low Back Study-Office Comp...               Household\n1  Contrast living Wooden Decorative Box,Painted ...               Household\n2  IO Crest SY-PCI40010 PCI RAID Host Controller ...             Electronics\n3  ISAKAA Baby Socks from Just Born to 8 Years- P...  Clothing & Accessories\n4  Indira Designer Women's Art Mysore Silk Saree ...  Clothing & Accessories",
      "text/html": "<div>\n<style scoped>\n    .dataframe tbody tr th:only-of-type {\n        vertical-align: middle;\n    }\n\n    .dataframe tbody tr th {\n        vertical-align: top;\n    }\n\n    .dataframe thead th {\n        text-align: right;\n    }\n</style>\n<table border=\"1\" class=\"dataframe\">\n  <thead>\n    <tr style=\"text-align: right;\">\n      <th></th>\n      <th>Text</th>\n      <th>label</th>\n    </tr>\n  </thead>\n  <tbody>\n    <tr>\n      <th>0</th>\n      <td>Urban Ladder Eisner Low Back Study-Office Comp...</td>\n      <td>Household</td>\n    </tr>\n    <tr>\n      <th>1</th>\n      <td>Contrast living Wooden Decorative Box,Painted ...</td>\n      <td>Household</td>\n    </tr>\n    <tr>\n      <th>2</th>\n      <td>IO Crest SY-PCI40010 PCI RAID Host Controller ...</td>\n      <td>Electronics</td>\n    </tr>\n    <tr>\n      <th>3</th>\n      <td>ISAKAA Baby Socks from Just Born to 8 Years- P...</td>\n      <td>Clothing &amp; Accessories</td>\n    </tr>\n    <tr>\n      <th>4</th>\n      <td>Indira Designer Women's Art Mysore Silk Saree ...</td>\n      <td>Clothing &amp; Accessories</td>\n    </tr>\n  </tbody>\n</table>\n</div>"
     },
     "execution_count": 7,
     "metadata": {},
     "output_type": "execute_result"
    }
   ],
   "source": [
    "import pandas as pd\n",
    "\n",
    "#read the data into a pandas dataframe\n",
    "df = pd.read_csv(\"Ecommerce_data.csv\")\n",
    "print(df.shape)\n",
    "df.head(5)"
   ]
  },
  {
   "cell_type": "code",
   "execution_count": 8,
   "id": "c70c009f",
   "metadata": {
    "scrolled": true,
    "ExecuteTime": {
     "end_time": "2024-05-29T06:09:55.280359Z",
     "start_time": "2024-05-29T06:09:55.262555Z"
    }
   },
   "outputs": [
    {
     "data": {
      "text/plain": "label\nHousehold                 6000\nElectronics               6000\nClothing & Accessories    6000\nBooks                     6000\nName: count, dtype: int64"
     },
     "execution_count": 8,
     "metadata": {},
     "output_type": "execute_result"
    }
   ],
   "source": [
    "df['label'].value_counts()"
   ]
  },
  {
   "cell_type": "code",
   "execution_count": 9,
   "id": "4693ad30",
   "metadata": {
    "ExecuteTime": {
     "end_time": "2024-05-29T06:10:13.446141Z",
     "start_time": "2024-05-29T06:10:13.416696Z"
    }
   },
   "outputs": [
    {
     "data": {
      "text/plain": "                                                Text                   label  \\\n0  Urban Ladder Eisner Low Back Study-Office Comp...               Household   \n1  Contrast living Wooden Decorative Box,Painted ...               Household   \n2  IO Crest SY-PCI40010 PCI RAID Host Controller ...             Electronics   \n3  ISAKAA Baby Socks from Just Born to 8 Years- P...  Clothing & Accessories   \n4  Indira Designer Women's Art Mysore Silk Saree ...  Clothing & Accessories   \n\n   label_num  \n0          0  \n1          0  \n2          2  \n3          3  \n4          3  ",
      "text/html": "<div>\n<style scoped>\n    .dataframe tbody tr th:only-of-type {\n        vertical-align: middle;\n    }\n\n    .dataframe tbody tr th {\n        vertical-align: top;\n    }\n\n    .dataframe thead th {\n        text-align: right;\n    }\n</style>\n<table border=\"1\" class=\"dataframe\">\n  <thead>\n    <tr style=\"text-align: right;\">\n      <th></th>\n      <th>Text</th>\n      <th>label</th>\n      <th>label_num</th>\n    </tr>\n  </thead>\n  <tbody>\n    <tr>\n      <th>0</th>\n      <td>Urban Ladder Eisner Low Back Study-Office Comp...</td>\n      <td>Household</td>\n      <td>0</td>\n    </tr>\n    <tr>\n      <th>1</th>\n      <td>Contrast living Wooden Decorative Box,Painted ...</td>\n      <td>Household</td>\n      <td>0</td>\n    </tr>\n    <tr>\n      <th>2</th>\n      <td>IO Crest SY-PCI40010 PCI RAID Host Controller ...</td>\n      <td>Electronics</td>\n      <td>2</td>\n    </tr>\n    <tr>\n      <th>3</th>\n      <td>ISAKAA Baby Socks from Just Born to 8 Years- P...</td>\n      <td>Clothing &amp; Accessories</td>\n      <td>3</td>\n    </tr>\n    <tr>\n      <th>4</th>\n      <td>Indira Designer Women's Art Mysore Silk Saree ...</td>\n      <td>Clothing &amp; Accessories</td>\n      <td>3</td>\n    </tr>\n  </tbody>\n</table>\n</div>"
     },
     "execution_count": 9,
     "metadata": {},
     "output_type": "execute_result"
    }
   ],
   "source": [
    "#Adding the new column which gives a unique number to each of these labels \n",
    "\n",
    "df['label_num'] = df['label'].map({\n",
    "    'Household' : 0, \n",
    "    'Books': 1, \n",
    "    'Electronics': 2, \n",
    "    'Clothing & Accessories': 3\n",
    "})\n",
    "\n",
    "#checking the results \n",
    "df.head(5)"
   ]
  },
  {
   "cell_type": "markdown",
   "id": "ec37fbdf",
   "metadata": {},
   "source": [
    "<h3>Train test split</h3>"
   ]
  },
  {
   "cell_type": "code",
   "execution_count": 12,
   "id": "1e9bb190",
   "metadata": {
    "ExecuteTime": {
     "end_time": "2024-05-29T06:10:54.856837Z",
     "start_time": "2024-05-29T06:10:54.832520Z"
    }
   },
   "outputs": [],
   "source": [
    "from sklearn.model_selection import train_test_split\n",
    "\n",
    "X_train, X_test, y_train, y_test = train_test_split(\n",
    "    df.Text, \n",
    "    df.label_num, \n",
    "    test_size=0.2,\n",
    "    random_state=2022,\n",
    "    stratify=df.label_num\n",
    ")"
   ]
  },
  {
   "cell_type": "code",
   "execution_count": 13,
   "id": "c3dcb35d",
   "metadata": {
    "ExecuteTime": {
     "end_time": "2024-05-29T06:10:55.284562Z",
     "start_time": "2024-05-29T06:10:55.281636Z"
    }
   },
   "outputs": [
    {
     "name": "stdout",
     "output_type": "stream",
     "text": [
      "Shape of X_train:  (19200,)\n",
      "Shape of X_test:  (4800,)\n"
     ]
    }
   ],
   "source": [
    "print(\"Shape of X_train: \", X_train.shape)\n",
    "print(\"Shape of X_test: \", X_test.shape)"
   ]
  },
  {
   "cell_type": "code",
   "execution_count": 14,
   "id": "cdaf7f80",
   "metadata": {
    "ExecuteTime": {
     "end_time": "2024-05-29T06:10:56.234914Z",
     "start_time": "2024-05-29T06:10:56.227656Z"
    }
   },
   "outputs": [
    {
     "data": {
      "text/plain": "15820    IRIS Furniture Children Deluxe Spiderman Toddl...\n23224    Godox CB-09 Hard Carrying Storage Suitcase Car...\n4638     Ugreen All in 1 USB 3.0 Card Reader USB Memory...\n15245    Spread Spain Metallic Gold Bar Trolley/Kitchen...\n5378     Chromozome Men's Calf Socks (Pack of 3) (SX-3 ...\nName: Text, dtype: object"
     },
     "execution_count": 14,
     "metadata": {},
     "output_type": "execute_result"
    }
   ],
   "source": [
    "X_train.head()"
   ]
  },
  {
   "cell_type": "code",
   "execution_count": 15,
   "id": "a196a664",
   "metadata": {
    "ExecuteTime": {
     "end_time": "2024-05-29T06:10:57.342971Z",
     "start_time": "2024-05-29T06:10:57.340377Z"
    }
   },
   "outputs": [
    {
     "data": {
      "text/plain": "label_num\n0    4800\n2    4800\n3    4800\n1    4800\nName: count, dtype: int64"
     },
     "execution_count": 15,
     "metadata": {},
     "output_type": "execute_result"
    }
   ],
   "source": [
    "y_train.value_counts()"
   ]
  },
  {
   "cell_type": "code",
   "execution_count": 16,
   "id": "4a3824f3",
   "metadata": {
    "ExecuteTime": {
     "end_time": "2024-05-29T06:10:57.875100Z",
     "start_time": "2024-05-29T06:10:57.869221Z"
    }
   },
   "outputs": [
    {
     "data": {
      "text/plain": "label_num\n0    1200\n2    1200\n3    1200\n1    1200\nName: count, dtype: int64"
     },
     "execution_count": 16,
     "metadata": {},
     "output_type": "execute_result"
    }
   ],
   "source": [
    "y_test.value_counts()"
   ]
  },
  {
   "cell_type": "markdown",
   "id": "ee694214",
   "metadata": {},
   "source": [
    "Using **KNN** as the classifier "
   ]
  },
  {
   "cell_type": "code",
   "execution_count": 17,
   "id": "857853b8",
   "metadata": {
    "ExecuteTime": {
     "end_time": "2024-05-29T06:13:01.227958Z",
     "start_time": "2024-05-29T06:11:50.255245Z"
    }
   },
   "outputs": [
    {
     "name": "stdout",
     "output_type": "stream",
     "text": [
      "              precision    recall  f1-score   support\n",
      "\n",
      "           0       0.95      0.96      0.95      1200\n",
      "           1       0.97      0.95      0.96      1200\n",
      "           2       0.97      0.97      0.97      1200\n",
      "           3       0.97      0.98      0.97      1200\n",
      "\n",
      "    accuracy                           0.96      4800\n",
      "   macro avg       0.96      0.96      0.96      4800\n",
      "weighted avg       0.96      0.96      0.96      4800\n"
     ]
    }
   ],
   "source": [
    "from sklearn.neighbors import KNeighborsClassifier\n",
    "from sklearn.pipeline import Pipeline\n",
    "from sklearn.metrics import classification_report\n",
    "\n",
    "\n",
    "clf = Pipeline([\n",
    "     ('vectorizer_tfidf',TfidfVectorizer()),    \n",
    "     ('KNN', KNeighborsClassifier())         \n",
    "])\n",
    "clf.fit(X_train, y_train)\n",
    "y_pred = clf.predict(X_test)\n",
    "\n",
    "print(classification_report(y_test, y_pred))"
   ]
  },
  {
   "cell_type": "code",
   "execution_count": 18,
   "id": "5b3a9b57",
   "metadata": {
    "scrolled": true,
    "ExecuteTime": {
     "end_time": "2024-05-29T06:13:01.346804Z",
     "start_time": "2024-05-29T06:13:01.225509Z"
    }
   },
   "outputs": [
    {
     "data": {
      "text/plain": "20706    Lal Haveli Designer Handmade Patchwork Decorat...\n19166    GOTOTOP Classical Retro Cotton & PU Leather Ne...\n15209    FabSeasons Camouflage Polyester Multi Function...\n2462     Indian Superfoods: Change the Way You Eat Revi...\n6621     Milton Marvel Insulated Steel Casseroles, Juni...\nName: Text, dtype: object"
     },
     "execution_count": 18,
     "metadata": {},
     "output_type": "execute_result"
    }
   ],
   "source": [
    "X_test[:5]"
   ]
  },
  {
   "cell_type": "code",
   "execution_count": 20,
   "id": "710d72a7",
   "metadata": {},
   "outputs": [
    {
     "data": {
      "text/plain": [
       "20706    0\n",
       "19166    2\n",
       "15209    3\n",
       "2462     1\n",
       "6621     3\n",
       "Name: label_num, dtype: int64"
      ]
     },
     "execution_count": 20,
     "metadata": {},
     "output_type": "execute_result"
    }
   ],
   "source": [
    "y_test[:5]"
   ]
  },
  {
   "cell_type": "code",
   "execution_count": 19,
   "id": "82b421eb",
   "metadata": {},
   "outputs": [
    {
     "data": {
      "text/plain": [
       "array([0, 2, 3, 1, 0], dtype=int64)"
      ]
     },
     "execution_count": 19,
     "metadata": {},
     "output_type": "execute_result"
    }
   ],
   "source": [
    "y_pred[:5]"
   ]
  },
  {
   "cell_type": "markdown",
   "id": "2204ab6f",
   "metadata": {},
   "source": [
    "Using **Random Forest** as the classifier.\n",
    "\n"
   ]
  },
  {
   "cell_type": "code",
   "execution_count": 19,
   "id": "8e32df2d",
   "metadata": {
    "ExecuteTime": {
     "end_time": "2024-05-29T06:14:22.435442Z",
     "start_time": "2024-05-29T06:14:06.350055Z"
    }
   },
   "outputs": [
    {
     "name": "stdout",
     "output_type": "stream",
     "text": [
      "              precision    recall  f1-score   support\n",
      "\n",
      "           0       0.96      0.96      0.96      1200\n",
      "           1       0.98      0.98      0.98      1200\n",
      "           2       0.98      0.97      0.97      1200\n",
      "           3       0.98      0.99      0.98      1200\n",
      "\n",
      "    accuracy                           0.97      4800\n",
      "   macro avg       0.97      0.97      0.97      4800\n",
      "weighted avg       0.97      0.97      0.97      4800\n"
     ]
    }
   ],
   "source": [
    "from sklearn.ensemble import RandomForestClassifier\n",
    "\n",
    "\n",
    "clf = Pipeline([\n",
    "     ('vectorizer_tfidf',TfidfVectorizer()),\n",
    "     ('Random Forest', RandomForestClassifier())         \n",
    "])\n",
    "\n",
    "\n",
    "clf.fit(X_train, y_train)\n",
    "y_pred = clf.predict(X_test)\n",
    "print(classification_report(y_test, y_pred))"
   ]
  }
 ],
 "metadata": {
  "kernelspec": {
   "display_name": "Python 3",
   "language": "python",
   "name": "python3"
  },
  "language_info": {
   "codemirror_mode": {
    "name": "ipython",
    "version": 3
   },
   "file_extension": ".py",
   "mimetype": "text/x-python",
   "name": "python",
   "nbconvert_exporter": "python",
   "pygments_lexer": "ipython3",
   "version": "3.8.10"
  }
 },
 "nbformat": 4,
 "nbformat_minor": 5
}
