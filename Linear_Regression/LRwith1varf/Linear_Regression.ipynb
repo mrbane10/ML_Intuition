{
 "cells": [
  {
   "cell_type": "markdown",
   "source": [
    "## Implementing linear regression with one variable to predict profits for a restaurant franchise"
   ],
   "metadata": {
    "collapsed": false
   },
   "id": "7379fc99523f0677"
  },
  {
   "cell_type": "markdown",
   "source": [
    "## 1 -  Problem Statement\n",
    "\n",
    "Suppose you are the CEO of a restaurant franchise and are considering different cities for opening a new outlet.\n",
    "- You would like to expand your business to cities that may give your restaurant higher profits.\n",
    "- The chain already has restaurants in various cities and you have data for profits and populations from the cities.\n",
    "- You also have data on cities that are candidates for a new restaurant. \n",
    "    - For these cities, you have the city population.\n",
    "    \n",
    "Can you use the data to help you identify which cities may potentially give your business higher profits?"
   ],
   "metadata": {
    "collapsed": false
   },
   "id": "f33251859a6cfe81"
  },
  {
   "cell_type": "code",
   "execution_count": 17,
   "outputs": [],
   "source": [
    "import numpy as np\n",
    "import matplotlib.pyplot as plt\n",
    "import copy\n",
    "import math\n",
    "import pandas as pd\n",
    "\n",
    "\n",
    "%matplotlib inline"
   ],
   "metadata": {
    "collapsed": false,
    "ExecuteTime": {
     "end_time": "2024-05-10T06:09:50.843511Z",
     "start_time": "2024-05-10T06:09:50.841834Z"
    }
   },
   "id": "5fd9b2eb740a77bd"
  },
  {
   "cell_type": "code",
   "execution_count": 18,
   "outputs": [],
   "source": [
    "df=pd.read_csv(\"data/ex1data1.txt\",header=None)"
   ],
   "metadata": {
    "collapsed": false,
    "ExecuteTime": {
     "end_time": "2024-05-10T06:09:51.326930Z",
     "start_time": "2024-05-10T06:09:51.320478Z"
    }
   },
   "id": "182d48c767bcff4a"
  },
  {
   "cell_type": "code",
   "execution_count": 19,
   "outputs": [
    {
     "name": "stdout",
     "output_type": "stream",
     "text": [
      "        0        1\n",
      "0  6.1101  17.5920\n",
      "1  5.5277   9.1302\n",
      "2  8.5186  13.6620\n"
     ]
    }
   ],
   "source": [
    "x_train=df.iloc[:,0]\n",
    "y_train=df.iloc[:,1]\n",
    "print(df.head(3))"
   ],
   "metadata": {
    "collapsed": false,
    "ExecuteTime": {
     "end_time": "2024-05-10T06:09:51.610900Z",
     "start_time": "2024-05-10T06:09:51.607272Z"
    }
   },
   "id": "f273089098ced649"
  },
  {
   "cell_type": "code",
   "execution_count": 46,
   "outputs": [
    {
     "name": "stdout",
     "output_type": "stream",
     "text": [
      "The shape of x_train is: (97,)\n",
      "The shape of y_train is:  (97,)\n",
      "97\n",
      "Number of training examples (m): 97\n"
     ]
    }
   ],
   "source": [
    "print ('The shape of x_train is:', x_train.shape)\n",
    "print ('The shape of y_train is: ', y_train.shape)\n",
    "print(x_train.shape[0])\n",
    "print ('Number of training examples (m):', len(x_train))"
   ],
   "metadata": {
    "collapsed": false,
    "ExecuteTime": {
     "end_time": "2024-05-10T06:46:19.256943Z",
     "start_time": "2024-05-10T06:46:19.254958Z"
    }
   },
   "id": "959e1ca63d9d4416"
  },
  {
   "cell_type": "markdown",
   "source": [
    "`x_train` is a numpy array that contains decimal values that are all greater than zero.\n",
    "- These values represent the city population times 10,000\n",
    "- For example, 6.1101 means that the population for that city is 61,101\n",
    "\n",
    "Similarly, `y_train` is a numpy array that has decimal values, some negative, some positive.\n",
    "- These represent your restaurant's average monthly profits in each city, in units of \\$10,000.\n",
    "  - For example, 17.592 represents \\$175,920 in average monthly profits for that city.\n",
    "  - -2.6807 represents -\\$26,807 in average monthly loss for that city."
   ],
   "metadata": {
    "collapsed": false
   },
   "id": "a17d9c30215e1e57"
  },
  {
   "cell_type": "markdown",
   "source": [
    "#### Visualizing your data by plotting a scatter plot\n"
   ],
   "metadata": {
    "collapsed": false
   },
   "id": "878cfeeca839a9cc"
  },
  {
   "cell_type": "code",
   "execution_count": 28,
   "outputs": [
    {
     "data": {
      "text/plain": "Text(0, 0.5, 'Profit in $10,000')"
     },
     "execution_count": 28,
     "metadata": {},
     "output_type": "execute_result"
    },
    {
     "data": {
      "text/plain": "<Figure size 640x480 with 1 Axes>",
      "image/png": "[encoded data removed]"
     },
     "metadata": {},
     "output_type": "display_data"
    }
   ],
   "source": [
    "plt.scatter(x_train,y_train,c='r',marker=\"x\")\n",
    "plt.title(\"Profit vs Population per city\")\n",
    "plt.xlabel(\"Population of City in 10,000s\")\n",
    "plt.ylabel(\"Profit in $10,000\")"
   ],
   "metadata": {
    "collapsed": false,
    "ExecuteTime": {
     "end_time": "2024-05-10T06:16:43.912102Z",
     "start_time": "2024-05-10T06:16:43.811357Z"
    }
   },
   "id": "8c6cf3874dfdb290"
  },
  {
   "cell_type": "code",
   "execution_count": 56,
   "outputs": [],
   "source": [
    "#defining our cost function\n",
    "def compute_cost(x,y,w,b):\n",
    "    m=x.shape[0]\n",
    "    \n",
    "    cost=0\n",
    "    total_cost=0\n",
    "    for i in range(m):\n",
    "        f_wb=w*x[i]+b\n",
    "        cost+=(f_wb-y[i])**2\n",
    "    total_cost=cost/(2*m)\n",
    "    return total_cost\n",
    "        \n",
    "        "
   ],
   "metadata": {
    "collapsed": false,
    "ExecuteTime": {
     "end_time": "2024-05-10T06:49:19.887790Z",
     "start_time": "2024-05-10T06:49:19.871394Z"
    }
   },
   "id": "813ac21a878254ab"
  },
  {
   "cell_type": "code",
   "execution_count": 60,
   "outputs": [
    {
     "name": "stdout",
     "output_type": "stream",
     "text": [
      "<class 'numpy.float64'>\n",
      "75.20338497891959\n"
     ]
    }
   ],
   "source": [
    "w_init=2\n",
    "b_init=1\n",
    "cost=compute_cost(x_train,y_train,w_init,b_init)\n",
    "print(type(cost))\n",
    "print(cost)"
   ],
   "metadata": {
    "collapsed": false,
    "ExecuteTime": {
     "end_time": "2024-05-10T06:50:08.265286Z",
     "start_time": "2024-05-10T06:50:08.261341Z"
    }
   },
   "id": "36d65050f6022a8d"
  },
  {
   "cell_type": "markdown",
   "source": [
    "# Now let's implement Gradient Descent "
   ],
   "metadata": {
    "collapsed": false
   },
   "id": "e6d551ef91d26287"
  },
  {
   "cell_type": "markdown",
   "source": [
    " steps involved\n",
    " 1.no of examples define\n",
    "2.initaise dj_dw,dj_db\n",
    "3.calculate dj_dw,dj_db\n",
    "4.update w ,b\n",
    "5.return updated values of w,b\n"
   ],
   "metadata": {
    "collapsed": false
   },
   "id": "65554676232edea3"
  },
  {
   "cell_type": "code",
   "execution_count": 61,
   "outputs": [],
   "source": [
    "def compute_gradient(x,y,w,b):\n",
    "    m=x.shape[0]\n",
    "    dj_dw=0\n",
    "    dj_db=0\n",
    "    for i in range(m):\n",
    "        f_wb=w*x[i]+b\n",
    "        dj_dw+=(f_wb-y[i])*x[i]\n",
    "        dj_db+=(f_wb-y[i])\n",
    "    dj_dw=dj_dw/m\n",
    "    dj_db=dj_db/m\n",
    "    return dj_dw,dj_db\n",
    "        \n",
    "        "
   ],
   "metadata": {
    "collapsed": false,
    "ExecuteTime": {
     "end_time": "2024-05-10T07:28:44.645286Z",
     "start_time": "2024-05-10T07:28:44.641843Z"
    }
   },
   "id": "c70009e4634fda52"
  },
  {
   "cell_type": "code",
   "execution_count": 62,
   "outputs": [
    {
     "name": "stdout",
     "output_type": "stream",
     "text": [
      "Gradient at initial w, b (zeros): -65.32884974555672 -5.83913505154639\n"
     ]
    }
   ],
   "source": [
    "# Compute and display gradient with w initialized to zeroes\n",
    "initial_w = 0\n",
    "initial_b = 0\n",
    "\n",
    "tmp_dj_dw, tmp_dj_db = compute_gradient(x_train, y_train, initial_w, initial_b)\n",
    "print('Gradient at initial w, b (zeros):', tmp_dj_dw, tmp_dj_db)"
   ],
   "metadata": {
    "collapsed": false,
    "ExecuteTime": {
     "end_time": "2024-05-10T07:29:12.185281Z",
     "start_time": "2024-05-10T07:29:12.173694Z"
    }
   },
   "id": "d012ae97597e3626"
  },
  {
   "cell_type": "code",
   "execution_count": 63,
   "outputs": [
    {
     "name": "stdout",
     "output_type": "stream",
     "text": [
      "Gradient at test w, b: -47.41610118114435 -4.007175051546391\n"
     ]
    }
   ],
   "source": [
    "# Compute and display cost and gradient with non-zero w\n",
    "test_w = 0.2\n",
    "test_b = 0.2\n",
    "tmp_dj_dw, tmp_dj_db = compute_gradient(x_train, y_train, test_w, test_b)\n",
    "\n",
    "print('Gradient at test w, b:', tmp_dj_dw, tmp_dj_db)"
   ],
   "metadata": {
    "collapsed": false,
    "ExecuteTime": {
     "end_time": "2024-05-10T07:29:24.786424Z",
     "start_time": "2024-05-10T07:29:24.761422Z"
    }
   },
   "id": "f77c51ac0a48dd2c"
  },
  {
   "cell_type": "code",
   "execution_count": 65,
   "outputs": [],
   "source": [
    "# Implementing Batch Gradient Descent\n",
    "def gradient_descent(x,y,w,b,cost_function,gradient_compute,alpha,num_iters):\n",
    "    m=len(x) #number of training egs\n",
    "    J_history=[]\n",
    "    w = copy.deepcopy(w_init)  #avoid modifying global w within function\n",
    "    w_history=[]\n",
    "    b=b_init\n",
    "    for i in range(num_iters):\n",
    "        # Calculate the gradient and update the parameters\n",
    "        dj_dw,dj_db=compute_gradient(x,y,w,b)\n",
    "        # Update Parameters using w, b, alpha and gradient\n",
    "        w=w-alpha*dj_dw\n",
    "        b=b-alpha*dj_db\n",
    "        # Save cost J at each iteration\n",
    "        if i<100000:      # prevent resource exhaustion \n",
    "            cost =  cost_function(x, y, w, b)\n",
    "            J_history.append(cost)\n",
    "\n",
    "        # Print cost every at intervals 10 times or as many iterations if < 10\n",
    "        if i% math.ceil(num_iters/10) == 0:\n",
    "            w_history.append(w)\n",
    "            print(f\"Iteration {i:4}: Cost {float(J_history[-1]):8.2f}   \")\n",
    "        \n",
    "    return w, b, J_history, w_history #return w and J,w history for graphing\n",
    "        \n",
    "        \n",
    "    \n",
    "    \n",
    "    \n"
   ],
   "metadata": {
    "collapsed": false,
    "ExecuteTime": {
     "end_time": "2024-05-10T07:45:06.328233Z",
     "start_time": "2024-05-10T07:45:06.319751Z"
    }
   },
   "id": "7b7b01e7df47abb0"
  },
  {
   "cell_type": "code",
   "execution_count": 66,
   "outputs": [
    {
     "name": "stdout",
     "output_type": "stream",
     "text": [
      "Iteration    0: Cost     8.71   \n",
      "Iteration  150: Cost     5.68   \n",
      "Iteration  300: Cost     5.18   \n",
      "Iteration  450: Cost     4.88   \n",
      "Iteration  600: Cost     4.71   \n",
      "Iteration  750: Cost     4.61   \n",
      "Iteration  900: Cost     4.56   \n",
      "Iteration 1050: Cost     4.52   \n",
      "Iteration 1200: Cost     4.50   \n",
      "Iteration 1350: Cost     4.49   \n",
      "w,b found by gradient descent: 1.161054981171953 -3.577461214180215\n"
     ]
    }
   ],
   "source": [
    "initial_w = 0.\n",
    "initial_b = 0.\n",
    "# some gradient descent settings\n",
    "iterations = 1500\n",
    "alpha = 0.01\n",
    "\n",
    "w,b,_,_ = gradient_descent(x_train ,y_train, initial_w, initial_b, \n",
    "                     compute_cost, compute_gradient, alpha, iterations)\n",
    "print(\"w,b found by gradient descent:\", w, b)"
   ],
   "metadata": {
    "collapsed": false,
    "ExecuteTime": {
     "end_time": "2024-05-10T07:45:43.422714Z",
     "start_time": "2024-05-10T07:45:42.475541Z"
    }
   },
   "id": "bed45a463caa03ac"
  },
  {
   "cell_type": "code",
   "execution_count": 67,
   "outputs": [],
   "source": [
    "m = x_train.shape[0]\n",
    "predicted = np.zeros(m)\n",
    "\n",
    "for i in range(m):\n",
    "    predicted[i] = w * x_train[i] + b"
   ],
   "metadata": {
    "collapsed": false,
    "ExecuteTime": {
     "end_time": "2024-05-10T07:46:12.986108Z",
     "start_time": "2024-05-10T07:46:12.952628Z"
    }
   },
   "id": "3a711778ef46cc77"
  },
  {
   "cell_type": "code",
   "execution_count": 68,
   "outputs": [
    {
     "data": {
      "text/plain": "Text(0.5, 0, 'Population of City in 10,000s')"
     },
     "execution_count": 68,
     "metadata": {},
     "output_type": "execute_result"
    },
    {
     "data": {
      "text/plain": "<Figure size 640x480 with 1 Axes>",
      "image/png": "[encoded data removed]"
     },
     "metadata": {},
     "output_type": "display_data"
    }
   ],
   "source": [
    "# Plot the linear fit\n",
    "plt.plot(x_train, predicted, c = \"b\")\n",
    "\n",
    "# Create a scatter plot of the data. \n",
    "plt.scatter(x_train, y_train, marker='x', c='r') \n",
    "\n",
    "# Set the title\n",
    "plt.title(\"Profits vs. Population per city\")\n",
    "# Set the y-axis label\n",
    "plt.ylabel('Profit in $10,000')\n",
    "# Set the x-axis label\n",
    "plt.xlabel('Population of City in 10,000s')"
   ],
   "metadata": {
    "collapsed": false,
    "ExecuteTime": {
     "end_time": "2024-05-10T07:46:23.177612Z",
     "start_time": "2024-05-10T07:46:23.073678Z"
    }
   },
   "id": "d3cc4bbf7d3680ab"
  },
  {
   "cell_type": "markdown",
   "source": [
    "The final values of $w,b$ can now be used to make predictions on profits. Let's predict what the profit would be in areas of 35,000 and 70,000 people. \n",
    "\n",
    "- The model takes in population of a city in 10,000s as input. \n",
    "\n",
    "- Therefore, 35,000 people can be translated into an input to the model as `np.array([3.5])`\n",
    "\n",
    "- Similarly, 70,000 people can be translated into an input to the model as `np.array([7.])`\n"
   ],
   "metadata": {
    "collapsed": false
   },
   "id": "2cd3846ddfb12d99"
  },
  {
   "cell_type": "code",
   "execution_count": 69,
   "outputs": [
    {
     "name": "stdout",
     "output_type": "stream",
     "text": [
      "For population = 35,000, we predict a profit of $4862.31\n",
      "For population = 70,000, we predict a profit of $45499.24\n"
     ]
    }
   ],
   "source": [
    "predict1 = 3.5 * w + b\n",
    "print('For population = 35,000, we predict a profit of $%.2f' % (predict1*10000))\n",
    "\n",
    "predict2 = 7.0 * w + b\n",
    "print('For population = 70,000, we predict a profit of $%.2f' % (predict2*10000))"
   ],
   "metadata": {
    "collapsed": false,
    "ExecuteTime": {
     "end_time": "2024-05-10T07:47:59.913273Z",
     "start_time": "2024-05-10T07:47:59.865127Z"
    }
   },
   "id": "915385c019015789"
  },
  {
   "cell_type": "code",
   "execution_count": null,
   "outputs": [],
   "source": [],
   "metadata": {
    "collapsed": false
   },
   "id": "ad5f92513d0c46c7"
  }
 ],
 "metadata": {
  "kernelspec": {
   "display_name": "Python 3",
   "language": "python",
   "name": "python3"
  },
  "language_info": {
   "codemirror_mode": {
    "name": "ipython",
    "version": 2
   },
   "file_extension": ".py",
   "mimetype": "text/x-python",
   "name": "python",
   "nbconvert_exporter": "python",
   "pygments_lexer": "ipython2",
   "version": "2.7.6"
  }
 },
 "nbformat": 4,
 "nbformat_minor": 5
}
