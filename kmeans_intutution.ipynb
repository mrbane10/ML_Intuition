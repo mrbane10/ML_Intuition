{
  "nbformat": 4,
  "nbformat_minor": 0,
  "metadata": {
    "colab": {
      "provenance": [],
      "authorship_tag": "ABX9TyOglFT3cJN5tTjqcd5PAgZw",
      "include_colab_link": true
    },
    "kernelspec": {
      "name": "python3",
      "display_name": "Python 3"
    },
    "language_info": {
      "name": "python"
    }
  },
  "cells": [
    {
      "cell_type": "markdown",
      "metadata": {
        "id": "view-in-github",
        "colab_type": "text"
      },
      "source": [
        "<a href=\"https://colab.research.google.com/github/mrbane10/ML_Intuition/blob/main/kmeans_intutution.ipynb\" target=\"_parent\"><img src=\"https://colab.research.google.com/assets/colab-badge.svg\" alt=\"Open In Colab\"/></a>"
      ]
    },
    {
      "cell_type": "code",
      "execution_count": null,
      "metadata": {
        "id": "YsJIEqC2MjEL"
      },
      "outputs": [],
      "source": [
        "import numpy as np\n",
        "import matplotlib.pyplot as plt"
      ]
    },
    {
      "cell_type": "code",
      "source": [
        "x=np.random.randint(0,10,size=20)\n",
        "y=np.random.randint(0,10,size=20)\n",
        "\n"
      ],
      "metadata": {
        "id": "kfmI9BsqMlAA"
      },
      "execution_count": null,
      "outputs": []
    },
    {
      "cell_type": "code",
      "source": [
        "print(x)"
      ],
      "metadata": {
        "colab": {
          "base_uri": "https://localhost:8080/"
        },
        "id": "kNAwWiarNBV2",
        "outputId": "323e94b9-75eb-48b0-8d41-d6ff8924ff17"
      },
      "execution_count": null,
      "outputs": [
        {
          "output_type": "stream",
          "name": "stdout",
          "text": [
            "[6 8 5 6 3 7 8 0 4 7 9 9 1 8 1 8 0 6 6 8]\n"
          ]
        }
      ]
    },
    {
      "cell_type": "code",
      "source": [
        "plt.scatter(x,y,c='b')\n",
        "plt.show()"
      ],
      "metadata": {
        "colab": {
          "base_uri": "https://localhost:8080/",
          "height": 430
        },
        "id": "JTan3FHWNLqx",
        "outputId": "43aef41d-509d-4fcf-e3c2-2ce59bed0d18"
      },
      "execution_count": null,
      "outputs": [
        {
          "output_type": "display_data",
          "data": {
            "text/plain": [
              "<Figure size 640x480 with 1 Axes>"
            ],
            "image/png": "[encoded data removed]"
          },
          "metadata": {}
        }
      ]
    },
    {
      "cell_type": "code",
      "source": [
        "#generate random centroids\n",
        "#calculate distance of each point to each centroid\n",
        "#assign centroid to each data point\n",
        "#calculate the new mean for each centroid\n",
        "#repeat for i iterations"
      ],
      "metadata": {
        "id": "fubGjjZ9N3n3"
      },
      "execution_count": null,
      "outputs": []
    },
    {
      "cell_type": "code",
      "source": [
        "centroid=np.random.randint(0,10,size=4).reshape(2,2)"
      ],
      "metadata": {
        "id": "-DcTZPjpObNr"
      },
      "execution_count": null,
      "outputs": []
    },
    {
      "cell_type": "code",
      "source": [
        "print(centroid)"
      ],
      "metadata": {
        "colab": {
          "base_uri": "https://localhost:8080/"
        },
        "id": "Upidn0WVQkfo",
        "outputId": "5e2cbfeb-edad-47da-ff78-a192420ba5b7"
      },
      "execution_count": null,
      "outputs": [
        {
          "output_type": "stream",
          "name": "stdout",
          "text": [
            "[[6 8]\n",
            " [3 1]]\n"
          ]
        }
      ]
    },
    {
      "cell_type": "code",
      "source": [
        "def find_cent(x,y,centroid):\n",
        "  n=x.shape[0]\n",
        "k=centroid.shape[0]\n",
        "idx=np.zeros(x.shape[0])\n",
        "for i in range(n):\n",
        "  distance=[]\n",
        "  for j in range(k):\n",
        "    e_dist=np.sum((x[i]-centroid[j][0])**2+(y[i]-centroid[j][1]))\n",
        "    distance.append(e_dist)\n",
        "\n",
        "  idx[i]=np.argmin(distance)\n"
      ],
      "metadata": {
        "id": "id-rcWG_R1M2"
      },
      "execution_count": null,
      "outputs": []
    },
    {
      "cell_type": "code",
      "source": [
        "print(idx)"
      ],
      "metadata": {
        "colab": {
          "base_uri": "https://localhost:8080/"
        },
        "id": "wdFGiRT_R9hI",
        "outputId": "8661a253-af8f-4fe8-e928-34032e16b60b"
      },
      "execution_count": null,
      "outputs": [
        {
          "output_type": "stream",
          "name": "stdout",
          "text": [
            "[0. 0. 0. 0. 1. 0. 0. 1. 0. 0. 0. 0. 1. 0. 1. 0. 1. 0. 0. 0.]\n"
          ]
        }
      ]
    },
    {
      "cell_type": "code",
      "source": [
        "def mean_cent(x,idx,k):\n",
        "  for i in range(k):\n",
        "    points=x[idx[i]==k]\n"
      ],
      "metadata": {
        "id": "LN7gQYEeUMSJ"
      },
      "execution_count": null,
      "outputs": []
    },
    {
      "cell_type": "code",
      "source": [
        "cent=find_cent(x,y,centroid)\n",
        "print(cent)"
      ],
      "metadata": {
        "colab": {
          "base_uri": "https://localhost:8080/"
        },
        "id": "aZ_PgNRobFrk",
        "outputId": "614ff769-bc57-4b98-8848-e480beb810a0"
      },
      "execution_count": null,
      "outputs": [
        {
          "output_type": "stream",
          "name": "stdout",
          "text": [
            "[0. 0. 0. 0. 0. 0. 0. 0. 0. 0. 0. 0. 0. 0. 0. 0. 0. 0. 0. 0.]\n"
          ]
        }
      ]
    },
    {
      "cell_type": "code",
      "source": [],
      "metadata": {
        "id": "2H1T3OQ4bavw"
      },
      "execution_count": null,
      "outputs": []
    }
  ]
}