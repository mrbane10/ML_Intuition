{
 "cells": [
  {
   "cell_type": "markdown",
   "source": [
    "# Implementing Logistic Regression on two different datasets"
   ],
   "metadata": {
    "collapsed": false
   },
   "id": "67969cfe9959c6f5"
  },
  {
   "cell_type": "markdown",
   "source": [
    "## 2 - Logistic Regression\n",
    "We will build a logistic regression model to predict whether a student gets admitted into a university.\n",
    "\n",
    "### 2.1 Problem Statement\n",
    "\n",
    "Suppose that you are the administrator of a university department and you want to determine each applicant’s chance of admission based on their results on two exams. \n",
    "* You have historical data from previous applicants that you can use as a training set for logistic regression. \n",
    "* For each training example, you have the applicant’s scores on two exams and the admissions decision. \n",
    "* Your task is to build a classification model that estimates an applicant’s probability of admission based on the scores from those two exams. "
   ],
   "metadata": {
    "collapsed": false
   },
   "id": "7736d41900f1c582"
  },
  {
   "cell_type": "code",
   "execution_count": 133,
   "outputs": [],
   "source": [
    "import numpy as np\n",
    "import matplotlib.pyplot as plt\n",
    "import copy\n",
    "import math\n",
    "import pandas as pd\n",
    "\n",
    "%matplotlib inline"
   ],
   "metadata": {
    "collapsed": false,
    "ExecuteTime": {
     "end_time": "2024-05-13T08:17:06.714479Z",
     "start_time": "2024-05-13T08:17:06.689176Z"
    }
   },
   "id": "initial_id"
  },
  {
   "cell_type": "code",
   "execution_count": 134,
   "outputs": [],
   "source": [
    "def load_data(filename):\n",
    "    data = np.loadtxt(filename, delimiter=',')\n",
    "    X = data[:,:2]\n",
    "    y = data[:,2]\n",
    "    return X, y"
   ],
   "metadata": {
    "collapsed": false,
    "ExecuteTime": {
     "end_time": "2024-05-13T08:17:06.714677Z",
     "start_time": "2024-05-13T08:17:06.692926Z"
    }
   },
   "id": "df8b2b34f96b8ce9"
  },
  {
   "cell_type": "code",
   "execution_count": 137,
   "outputs": [
    {
     "name": "stdout",
     "output_type": "stream",
     "text": [
      "(100, 2) (100,)\n"
     ]
    }
   ],
   "source": [
    "X_train,y_train=load_data(\"ex2data1.txt\")\n",
    "print(X_train.shape,y_train.shape)"
   ],
   "metadata": {
    "collapsed": false,
    "ExecuteTime": {
     "end_time": "2024-05-13T08:17:22.652067Z",
     "start_time": "2024-05-13T08:17:22.636472Z"
    }
   },
   "id": "af50ff26e06d7a25"
  },
  {
   "cell_type": "code",
   "execution_count": 140,
   "outputs": [],
   "source": [
    "#defining our plot function to visualise our data\n",
    "def plot_data(X, y, pos_label=\"y=1\", neg_label=\"y=0\"):\n",
    "    positive = y == 1\n",
    "    negative = y == 0\n",
    "    \n",
    "    # Plot examples\n",
    "    plt.plot(X[positive, 0], X[positive, 1], 'k+', label=pos_label)\n",
    "    plt.plot(X[negative, 0], X[negative, 1], 'yo', label=neg_label)\n",
    "\n",
    "    # Set the y-axis label\n",
    "    plt.ylabel('Exam 2 score') \n",
    "    # Set the x-axis label\n",
    "    plt.xlabel('Exam 1 score') \n",
    "    plt.legend(loc=\"upper right\")\n",
    "    plt.show()\n"
   ],
   "metadata": {
    "collapsed": false,
    "ExecuteTime": {
     "end_time": "2024-05-13T08:18:49.978097Z",
     "start_time": "2024-05-13T08:18:49.976224Z"
    }
   },
   "id": "e9405affb92bbd5f"
  },
  {
   "cell_type": "code",
   "execution_count": 141,
   "outputs": [
    {
     "data": {
      "text/plain": "<Figure size 640x480 with 1 Axes>",
      "image/png": "[encoded data removed]"
     },
     "metadata": {},
     "output_type": "display_data"
    }
   ],
   "source": [
    "# now plotting our data\n",
    "plot_data(X_train, y_train, pos_label=\"Admitted\", neg_label=\"Not admitted\")"
   ],
   "metadata": {
    "collapsed": false,
    "ExecuteTime": {
     "end_time": "2024-05-13T08:18:50.381829Z",
     "start_time": "2024-05-13T08:18:50.304908Z"
    }
   },
   "id": "dd1fe32d58dcf47"
  },
  {
   "cell_type": "markdown",
   "source": [
    "The goal is to build a logistic regression model to fit this data.\n",
    "- With this model, we can then predict if a new student will be admitted based on their scores on the two exams."
   ],
   "metadata": {
    "collapsed": false
   },
   "id": "ae3b025931062b09"
  },
  {
   "cell_type": "code",
   "execution_count": 142,
   "outputs": [],
   "source": [
    "#defining our sigmoid function\n",
    "def sigmoid(z):\n",
    "    g=1/(1+np.exp(-z))\n",
    "    return g"
   ],
   "metadata": {
    "collapsed": false,
    "ExecuteTime": {
     "end_time": "2024-05-13T08:18:51.143385Z",
     "start_time": "2024-05-13T08:18:51.136844Z"
    }
   },
   "id": "8357ce9809a1e2d4"
  },
  {
   "cell_type": "code",
   "execution_count": 145,
   "outputs": [],
   "source": [
    "#deining the cost function\n",
    "def compute_cost(X,y,w,b,lambda_=1):\n",
    "    m,n=X.shape\n",
    "    cost=0\n",
    "    for i in range(m):\n",
    "        z=np.dot(X[i],w)+b\n",
    "        g=sigmoid(z)\n",
    "        cost+=-y[i]*np.log(g)-(1-y[i])*np.log(1-g)\n",
    "    total_cost=cost/m\n",
    "    return total_cost\n",
    "    "
   ],
   "metadata": {
    "collapsed": false,
    "ExecuteTime": {
     "end_time": "2024-05-13T08:19:24.298454Z",
     "start_time": "2024-05-13T08:19:24.292337Z"
    }
   },
   "id": "4a6ee71d9368b159"
  },
  {
   "cell_type": "code",
   "execution_count": 146,
   "outputs": [
    {
     "name": "stdout",
     "output_type": "stream",
     "text": [
      "(100, 2)\n",
      "(2,)\n",
      "Cost at initial w (zeros): 0.693\n"
     ]
    }
   ],
   "source": [
    "m, n = X_train.shape\n",
    "print(X_train.shape)\n",
    "# Compute and display cost with w initialized to zeroes\n",
    "initial_w = np.zeros(n)\n",
    "print(initial_w.shape)\n",
    "initial_b = 0.\n",
    "cost = compute_cost(X_train, y_train, initial_w, initial_b)\n",
    "print('Cost at initial w (zeros): {:.3f}'.format(cost))"
   ],
   "metadata": {
    "collapsed": false,
    "ExecuteTime": {
     "end_time": "2024-05-13T08:19:24.517245Z",
     "start_time": "2024-05-13T08:19:24.510813Z"
    }
   },
   "id": "95d28dbce98d571b"
  },
  {
   "cell_type": "code",
   "execution_count": 150,
   "outputs": [],
   "source": [
    "#defining our gradient function\n",
    "def compute_gradient(X,y,w,b,lambda_=None):\n",
    "    m,n=X.shape\n",
    "    dj_dw=np.zeros(n)\n",
    "    dj_db=0\n",
    "    for i in range(m):\n",
    "        f_wb_i = sigmoid(np.dot(X[i],w) + b)          \n",
    "        err_i  = f_wb_i  - y[i] \n",
    "        for j in range(n):\n",
    "            dj_dw[j] = dj_dw[j] + err_i * X[i,j]      \n",
    "        dj_db = dj_db + err_i\n",
    "    dj_dw = dj_dw/m                                   \n",
    "    dj_db = dj_db/m  \n",
    "    return dj_db,dj_dw"
   ],
   "metadata": {
    "collapsed": false,
    "ExecuteTime": {
     "end_time": "2024-05-13T08:24:23.410420Z",
     "start_time": "2024-05-13T08:24:23.399543Z"
    }
   },
   "id": "ac2e28dc5c2a77a9"
  },
  {
   "cell_type": "code",
   "execution_count": 152,
   "outputs": [
    {
     "name": "stdout",
     "output_type": "stream",
     "text": [
      "dj_db at initial w (zeros):-0.1\n",
      "dj_dw at initial w (zeros):[-12.00921658929115, -11.262842205513591]\n"
     ]
    }
   ],
   "source": [
    "# the gradient with w initialized to zeroes\n",
    "initial_w = np.zeros(n)\n",
    "initial_b = 0.\n",
    "\n",
    "dj_db, dj_dw = compute_gradient(X_train, y_train, initial_w, initial_b)\n",
    "print(f'dj_db at initial w (zeros):{dj_db}' )\n",
    "print(f'dj_dw at initial w (zeros):{dj_dw.tolist()}' )"
   ],
   "metadata": {
    "collapsed": false,
    "ExecuteTime": {
     "end_time": "2024-05-13T09:22:46.726135Z",
     "start_time": "2024-05-13T09:22:46.709821Z"
    }
   },
   "id": "b520eda18c391d18"
  },
  {
   "cell_type": "code",
   "execution_count": 153,
   "outputs": [],
   "source": [
    "#learning parameters using gradient descent\n",
    "def gradient_descent(X,y,w_in,b_in,cost_function, gradient_function, alpha, num_iters, lambda_):\n",
    "    m = len(X)\n",
    "    # An array to store cost J and w's at each iteration primarily for graphing later\n",
    "    J_history = []\n",
    "    w_history = []\n",
    "    for i in range(num_iters):\n",
    " # Calculate the gradient and update the parameters\n",
    "        dj_db, dj_dw = gradient_function(X, y, w_in, b_in, lambda_)   \n",
    "\n",
    "        # Update Parameters using w, b, alpha and gradient\n",
    "        w_in = w_in - alpha * dj_dw               \n",
    "        b_in = b_in - alpha * dj_db  \n",
    " # Save cost J at each iteration\n",
    "        if i<100000:      # prevent resource exhaustion \n",
    "            cost =  cost_function(X, y, w_in, b_in, lambda_)\n",
    "            J_history.append(cost)\n",
    "\n",
    "        # Print cost every at intervals 10 times or as many iterations if < 10\n",
    "        if i% math.ceil(num_iters/10) == 0 or i == (num_iters-1):\n",
    "            w_history.append(w_in)\n",
    "            print(f\"Iteration {i:4}: Cost {float(J_history[-1]):8.2f}   \")\n",
    "        \n",
    "    return w_in, b_in, J_history, w_history #return w and J,w history for graphing"
   ],
   "metadata": {
    "collapsed": false,
    "ExecuteTime": {
     "end_time": "2024-05-13T09:26:00.982912Z",
     "start_time": "2024-05-13T09:26:00.964004Z"
    }
   },
   "id": "6ebed940d62a5f2f"
  },
  {
   "cell_type": "code",
   "execution_count": 154,
   "outputs": [
    {
     "name": "stdout",
     "output_type": "stream",
     "text": [
      "Iteration    0: Cost     1.01   \n",
      "Iteration 1000: Cost     0.31   \n",
      "Iteration 2000: Cost     0.30   \n",
      "Iteration 3000: Cost     0.30   \n",
      "Iteration 4000: Cost     0.30   \n",
      "Iteration 5000: Cost     0.30   \n",
      "Iteration 6000: Cost     0.30   \n",
      "Iteration 7000: Cost     0.30   \n",
      "Iteration 8000: Cost     0.30   \n",
      "Iteration 9000: Cost     0.30   \n",
      "Iteration 9999: Cost     0.30   \n"
     ]
    }
   ],
   "source": [
    "#Now we run the gradient descent algorithm above to learn the parameters for our dataset\n",
    "np.random.seed(1)\n",
    "intial_w = 0.01 * (np.random.rand(2).reshape(-1,1) - 0.5)\n",
    "initial_b = -8\n",
    "\n",
    "\n",
    "# Some gradient descent settings\n",
    "iterations = 10000\n",
    "alpha = 0.001\n",
    "\n",
    "w,b, J_history,_ = gradient_descent(X_train ,y_train, initial_w, initial_b, \n",
    "                                   compute_cost, compute_gradient, alpha, iterations, 0)"
   ],
   "metadata": {
    "collapsed": false,
    "ExecuteTime": {
     "end_time": "2024-05-13T09:28:07.616980Z",
     "start_time": "2024-05-13T09:28:01.473400Z"
    }
   },
   "id": "54ad242bc1a857dc"
  },
  {
   "cell_type": "markdown",
   "source": [
    "# Evaluating our models quality\n",
    "We can evaluate the quality of the parameters we have found by seeing how well the learned model predicts on our training set. \n"
   ],
   "metadata": {
    "collapsed": false
   },
   "id": "b2af93ea464434a"
  },
  {
   "cell_type": "code",
   "execution_count": 182,
   "outputs": [],
   "source": [
    "def predict(X,w,b):\n",
    "    m,n=X.shape\n",
    "    p=np.zeros(m)\n",
    "    for i in range(m):\n",
    "        z_wb = np.dot(X[i],w) +b\n",
    "        f_wb=sigmoid(z_wb)\n",
    "        p[i]=1 if f_wb>0.5 else 0\n",
    "        \n",
    "    return p\n",
    "        \n",
    "    "
   ],
   "metadata": {
    "collapsed": false,
    "ExecuteTime": {
     "end_time": "2024-05-13T09:49:09.694239Z",
     "start_time": "2024-05-13T09:49:09.669382Z"
    }
   },
   "id": "c19efad7cf9c1ac4"
  },
  {
   "cell_type": "code",
   "execution_count": 187,
   "outputs": [
    {
     "name": "stdout",
     "output_type": "stream",
     "text": [
      "[0. 0. 0. 1. 1. 0. 1. 1. 1. 1. 1. 0. 1. 1. 0. 1. 1. 0. 1. 1. 0. 1. 0. 0.\n",
      " 1. 1. 1. 1. 0. 0. 1. 1. 0. 1. 0. 0. 1. 1. 0. 0. 1. 0. 1. 1. 0. 0. 1. 1.\n",
      " 1. 1. 1. 1. 1. 0. 0. 0. 1. 1. 1. 1. 1. 0. 0. 0. 0. 0. 1. 0. 1. 1. 0. 1.\n",
      " 1. 1. 1. 1. 1. 1. 0. 1. 1. 1. 1. 0. 1. 1. 0. 1. 1. 0. 1. 1. 0. 1. 1. 1.\n",
      " 1. 1. 0. 1.]\n"
     ]
    }
   ],
   "source": [
    "p=predict(X_train,w,b)\n",
    "print(p)"
   ],
   "metadata": {
    "collapsed": false,
    "ExecuteTime": {
     "end_time": "2024-05-13T09:49:27.286237Z",
     "start_time": "2024-05-13T09:49:27.256087Z"
    }
   },
   "id": "23b8a43c52d328db"
  },
  {
   "cell_type": "code",
   "execution_count": 188,
   "outputs": [
    {
     "name": "stdout",
     "output_type": "stream",
     "text": [
      "Train Accuracy: 92.000000\n"
     ]
    }
   ],
   "source": [
    "#Computing accuracy on our training set\n",
    "print('Train Accuracy: %f'%(np.mean(p == y_train) * 100))"
   ],
   "metadata": {
    "collapsed": false,
    "ExecuteTime": {
     "end_time": "2024-05-13T09:49:27.854474Z",
     "start_time": "2024-05-13T09:49:27.829831Z"
    }
   },
   "id": "6b4d6a67891bcec2"
  },
  {
   "cell_type": "code",
   "execution_count": null,
   "outputs": [],
   "source": [],
   "metadata": {
    "collapsed": false
   },
   "id": "71e4f7527c03a399"
  }
 ],
 "metadata": {
  "kernelspec": {
   "display_name": "Python 3",
   "language": "python",
   "name": "python3"
  },
  "language_info": {
   "codemirror_mode": {
    "name": "ipython",
    "version": 2
   },
   "file_extension": ".py",
   "mimetype": "text/x-python",
   "name": "python",
   "nbconvert_exporter": "python",
   "pygments_lexer": "ipython2",
   "version": "2.7.6"
  }
 },
 "nbformat": 4,
 "nbformat_minor": 5
}
